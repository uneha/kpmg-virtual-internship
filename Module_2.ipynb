{
 "cells": [
  {
   "cell_type": "code",
   "execution_count": 1,
   "id": "34b1c119",
   "metadata": {},
   "outputs": [],
   "source": [
    "import pandas as pd"
   ]
  },
  {
   "cell_type": "code",
   "execution_count": 2,
   "id": "a1c47b0f",
   "metadata": {},
   "outputs": [],
   "source": [
    "import numpy as np"
   ]
  },
  {
   "cell_type": "code",
   "execution_count": 3,
   "id": "a42c60ea",
   "metadata": {},
   "outputs": [],
   "source": [
    "import matplotlib.pyplot as plt"
   ]
  },
  {
   "cell_type": "code",
   "execution_count": 4,
   "id": "7981efd8",
   "metadata": {},
   "outputs": [],
   "source": [
    "from sklearn import linear_model"
   ]
  },
  {
   "cell_type": "code",
   "execution_count": 5,
   "id": "d65414ab",
   "metadata": {},
   "outputs": [],
   "source": [
    "import seaborn as sns"
   ]
  },
  {
   "cell_type": "code",
   "execution_count": 7,
   "id": "8b438db2",
   "metadata": {},
   "outputs": [],
   "source": [
    "from datetime import datetime, date"
   ]
  },
  {
   "cell_type": "code",
   "execution_count": 8,
   "id": "cdca4ad4",
   "metadata": {},
   "outputs": [],
   "source": [
    "c_d = pd.read_excel(r\"C:\\Users\\USER\\OneDrive\\Documents\\customerDemographic.xlsx\")"
   ]
  },
  {
   "cell_type": "code",
   "execution_count": 9,
   "id": "ab88aa6d",
   "metadata": {},
   "outputs": [],
   "source": [
    "new_header = c_d.iloc[0]"
   ]
  },
  {
   "cell_type": "code",
   "execution_count": 10,
   "id": "95d78ccc",
   "metadata": {},
   "outputs": [],
   "source": [
    "c_d = c_d[1:]\n",
    "c_d.columns = new_header"
   ]
  },
  {
   "cell_type": "code",
   "execution_count": 11,
   "id": "c6bf84b4",
   "metadata": {},
   "outputs": [
    {
     "data": {
      "text/html": [
       "<div>\n",
       "<style scoped>\n",
       "    .dataframe tbody tr th:only-of-type {\n",
       "        vertical-align: middle;\n",
       "    }\n",
       "\n",
       "    .dataframe tbody tr th {\n",
       "        vertical-align: top;\n",
       "    }\n",
       "\n",
       "    .dataframe thead th {\n",
       "        text-align: right;\n",
       "    }\n",
       "</style>\n",
       "<table border=\"1\" class=\"dataframe\">\n",
       "  <thead>\n",
       "    <tr style=\"text-align: right;\">\n",
       "      <th></th>\n",
       "      <th>customer_id</th>\n",
       "      <th>first_name</th>\n",
       "      <th>last_name</th>\n",
       "      <th>gender</th>\n",
       "      <th>past_3_years_bike_related_purchases</th>\n",
       "      <th>DOB</th>\n",
       "      <th>job_title</th>\n",
       "      <th>job_industry_category</th>\n",
       "      <th>wealth_segment</th>\n",
       "      <th>deceased_indicator</th>\n",
       "      <th>default</th>\n",
       "      <th>owns_car</th>\n",
       "      <th>tenure</th>\n",
       "    </tr>\n",
       "  </thead>\n",
       "  <tbody>\n",
       "    <tr>\n",
       "      <th>1</th>\n",
       "      <td>1</td>\n",
       "      <td>Laraine</td>\n",
       "      <td>Medendorp</td>\n",
       "      <td>F</td>\n",
       "      <td>93</td>\n",
       "      <td>1953-10-12 00:00:00</td>\n",
       "      <td>Executive Secretary</td>\n",
       "      <td>Health</td>\n",
       "      <td>Mass Customer</td>\n",
       "      <td>N</td>\n",
       "      <td>\"'</td>\n",
       "      <td>Yes</td>\n",
       "      <td>11</td>\n",
       "    </tr>\n",
       "    <tr>\n",
       "      <th>2</th>\n",
       "      <td>2</td>\n",
       "      <td>Eli</td>\n",
       "      <td>Bockman</td>\n",
       "      <td>Male</td>\n",
       "      <td>81</td>\n",
       "      <td>1980-12-16 00:00:00</td>\n",
       "      <td>Administrative Officer</td>\n",
       "      <td>Financial Services</td>\n",
       "      <td>Mass Customer</td>\n",
       "      <td>N</td>\n",
       "      <td>&lt;script&gt;alert('hi')&lt;/script&gt;</td>\n",
       "      <td>Yes</td>\n",
       "      <td>16</td>\n",
       "    </tr>\n",
       "    <tr>\n",
       "      <th>3</th>\n",
       "      <td>3</td>\n",
       "      <td>Arlin</td>\n",
       "      <td>Dearle</td>\n",
       "      <td>Male</td>\n",
       "      <td>61</td>\n",
       "      <td>1954-01-20 00:00:00</td>\n",
       "      <td>Recruiting Manager</td>\n",
       "      <td>Property</td>\n",
       "      <td>Mass Customer</td>\n",
       "      <td>N</td>\n",
       "      <td>2018-02-01 00:00:00</td>\n",
       "      <td>Yes</td>\n",
       "      <td>15</td>\n",
       "    </tr>\n",
       "    <tr>\n",
       "      <th>4</th>\n",
       "      <td>4</td>\n",
       "      <td>Talbot</td>\n",
       "      <td>NaN</td>\n",
       "      <td>Male</td>\n",
       "      <td>33</td>\n",
       "      <td>1961-10-03 00:00:00</td>\n",
       "      <td>NaN</td>\n",
       "      <td>IT</td>\n",
       "      <td>Mass Customer</td>\n",
       "      <td>N</td>\n",
       "      <td>() { _; } &gt;_[$($())] { touch /tmp/blns.shellsh...</td>\n",
       "      <td>No</td>\n",
       "      <td>7</td>\n",
       "    </tr>\n",
       "    <tr>\n",
       "      <th>5</th>\n",
       "      <td>5</td>\n",
       "      <td>Sheila-kathryn</td>\n",
       "      <td>Calton</td>\n",
       "      <td>Female</td>\n",
       "      <td>56</td>\n",
       "      <td>1977-05-13 00:00:00</td>\n",
       "      <td>Senior Editor</td>\n",
       "      <td>NaN</td>\n",
       "      <td>Affluent Customer</td>\n",
       "      <td>N</td>\n",
       "      <td>NIL</td>\n",
       "      <td>Yes</td>\n",
       "      <td>8</td>\n",
       "    </tr>\n",
       "  </tbody>\n",
       "</table>\n",
       "</div>"
      ],
      "text/plain": [
       "0 customer_id      first_name  last_name  gender  \\\n",
       "1           1         Laraine  Medendorp       F   \n",
       "2           2             Eli    Bockman    Male   \n",
       "3           3           Arlin     Dearle    Male   \n",
       "4           4          Talbot        NaN    Male   \n",
       "5           5  Sheila-kathryn     Calton  Female   \n",
       "\n",
       "0 past_3_years_bike_related_purchases                  DOB  \\\n",
       "1                                  93  1953-10-12 00:00:00   \n",
       "2                                  81  1980-12-16 00:00:00   \n",
       "3                                  61  1954-01-20 00:00:00   \n",
       "4                                  33  1961-10-03 00:00:00   \n",
       "5                                  56  1977-05-13 00:00:00   \n",
       "\n",
       "0               job_title job_industry_category     wealth_segment  \\\n",
       "1     Executive Secretary                Health      Mass Customer   \n",
       "2  Administrative Officer    Financial Services      Mass Customer   \n",
       "3      Recruiting Manager              Property      Mass Customer   \n",
       "4                     NaN                    IT      Mass Customer   \n",
       "5           Senior Editor                   NaN  Affluent Customer   \n",
       "\n",
       "0 deceased_indicator                                            default  \\\n",
       "1                  N                                                 \"'   \n",
       "2                  N                       <script>alert('hi')</script>   \n",
       "3                  N                                2018-02-01 00:00:00   \n",
       "4                  N  () { _; } >_[$($())] { touch /tmp/blns.shellsh...   \n",
       "5                  N                                                NIL   \n",
       "\n",
       "0 owns_car tenure  \n",
       "1      Yes     11  \n",
       "2      Yes     16  \n",
       "3      Yes     15  \n",
       "4       No      7  \n",
       "5      Yes      8  "
      ]
     },
     "execution_count": 11,
     "metadata": {},
     "output_type": "execute_result"
    }
   ],
   "source": [
    "c_d.head()"
   ]
  },
  {
   "cell_type": "code",
   "execution_count": 12,
   "id": "4df9804c",
   "metadata": {},
   "outputs": [],
   "source": [
    "c_d.drop(\"default\", axis = 1,inplace = True)\n",
    "c_d[\"gender\"] = c_d[\"gender\"].replace([\"F\",\"Femal\",\"U\",\"M\"],[\"Female\",\"Female\",\"Unknown\",\"Male\"])\n",
    "c_d[\"owns_car\"] = c_d[\"owns_car\"].replace([\"Yes\",\"No\"],[1,0])"
   ]
  },
  {
   "cell_type": "code",
   "execution_count": 13,
   "id": "5b94c1ef",
   "metadata": {},
   "outputs": [
    {
     "data": {
      "text/html": [
       "<div>\n",
       "<style scoped>\n",
       "    .dataframe tbody tr th:only-of-type {\n",
       "        vertical-align: middle;\n",
       "    }\n",
       "\n",
       "    .dataframe tbody tr th {\n",
       "        vertical-align: top;\n",
       "    }\n",
       "\n",
       "    .dataframe thead th {\n",
       "        text-align: right;\n",
       "    }\n",
       "</style>\n",
       "<table border=\"1\" class=\"dataframe\">\n",
       "  <thead>\n",
       "    <tr style=\"text-align: right;\">\n",
       "      <th></th>\n",
       "      <th>customer_id</th>\n",
       "      <th>first_name</th>\n",
       "      <th>last_name</th>\n",
       "      <th>gender</th>\n",
       "      <th>past_3_years_bike_related_purchases</th>\n",
       "      <th>DOB</th>\n",
       "      <th>job_title</th>\n",
       "      <th>job_industry_category</th>\n",
       "      <th>wealth_segment</th>\n",
       "      <th>deceased_indicator</th>\n",
       "      <th>owns_car</th>\n",
       "      <th>tenure</th>\n",
       "    </tr>\n",
       "  </thead>\n",
       "  <tbody>\n",
       "    <tr>\n",
       "      <th>1</th>\n",
       "      <td>1</td>\n",
       "      <td>Laraine</td>\n",
       "      <td>Medendorp</td>\n",
       "      <td>Female</td>\n",
       "      <td>93</td>\n",
       "      <td>1953-10-12 00:00:00</td>\n",
       "      <td>Executive Secretary</td>\n",
       "      <td>Health</td>\n",
       "      <td>Mass Customer</td>\n",
       "      <td>N</td>\n",
       "      <td>1</td>\n",
       "      <td>11</td>\n",
       "    </tr>\n",
       "    <tr>\n",
       "      <th>2</th>\n",
       "      <td>2</td>\n",
       "      <td>Eli</td>\n",
       "      <td>Bockman</td>\n",
       "      <td>Male</td>\n",
       "      <td>81</td>\n",
       "      <td>1980-12-16 00:00:00</td>\n",
       "      <td>Administrative Officer</td>\n",
       "      <td>Financial Services</td>\n",
       "      <td>Mass Customer</td>\n",
       "      <td>N</td>\n",
       "      <td>1</td>\n",
       "      <td>16</td>\n",
       "    </tr>\n",
       "    <tr>\n",
       "      <th>3</th>\n",
       "      <td>3</td>\n",
       "      <td>Arlin</td>\n",
       "      <td>Dearle</td>\n",
       "      <td>Male</td>\n",
       "      <td>61</td>\n",
       "      <td>1954-01-20 00:00:00</td>\n",
       "      <td>Recruiting Manager</td>\n",
       "      <td>Property</td>\n",
       "      <td>Mass Customer</td>\n",
       "      <td>N</td>\n",
       "      <td>1</td>\n",
       "      <td>15</td>\n",
       "    </tr>\n",
       "  </tbody>\n",
       "</table>\n",
       "</div>"
      ],
      "text/plain": [
       "0 customer_id first_name  last_name  gender  \\\n",
       "1           1    Laraine  Medendorp  Female   \n",
       "2           2        Eli    Bockman    Male   \n",
       "3           3      Arlin     Dearle    Male   \n",
       "\n",
       "0 past_3_years_bike_related_purchases                  DOB  \\\n",
       "1                                  93  1953-10-12 00:00:00   \n",
       "2                                  81  1980-12-16 00:00:00   \n",
       "3                                  61  1954-01-20 00:00:00   \n",
       "\n",
       "0               job_title job_industry_category wealth_segment  \\\n",
       "1     Executive Secretary                Health  Mass Customer   \n",
       "2  Administrative Officer    Financial Services  Mass Customer   \n",
       "3      Recruiting Manager              Property  Mass Customer   \n",
       "\n",
       "0 deceased_indicator  owns_car tenure  \n",
       "1                  N         1     11  \n",
       "2                  N         1     16  \n",
       "3                  N         1     15  "
      ]
     },
     "execution_count": 13,
     "metadata": {},
     "output_type": "execute_result"
    }
   ],
   "source": [
    "c_d.head(3)"
   ]
  },
  {
   "cell_type": "code",
   "execution_count": 14,
   "id": "66324145",
   "metadata": {},
   "outputs": [],
   "source": [
    "c_d[\"DOB\"] = pd.to_datetime(c_d[\"DOB\"])"
   ]
  },
  {
   "cell_type": "code",
   "execution_count": 15,
   "id": "a85cb036",
   "metadata": {},
   "outputs": [],
   "source": [
    "def from_dob_to_age(born):\n",
    "    today = datetime.date.today()\n",
    "    return today.year - born.year - ((today.month, today.day) < (born.month, born.day))"
   ]
  },
  {
   "cell_type": "code",
   "execution_count": 18,
   "id": "3c856cd3",
   "metadata": {},
   "outputs": [],
   "source": [
    "import datetime"
   ]
  },
  {
   "cell_type": "code",
   "execution_count": 19,
   "id": "d86ca0ad",
   "metadata": {},
   "outputs": [],
   "source": [
    "c_d[\"age\"] = c_d['DOB'].apply(lambda x: from_dob_to_age(x))"
   ]
  },
  {
   "cell_type": "code",
   "execution_count": 20,
   "id": "b6ed8063",
   "metadata": {
    "scrolled": true
   },
   "outputs": [
    {
     "data": {
      "text/plain": [
       "0\n",
       "customer_id                              0\n",
       "first_name                               0\n",
       "last_name                              125\n",
       "gender                                   0\n",
       "past_3_years_bike_related_purchases      0\n",
       "DOB                                     87\n",
       "job_title                              506\n",
       "job_industry_category                  656\n",
       "wealth_segment                           0\n",
       "deceased_indicator                       0\n",
       "owns_car                                 0\n",
       "tenure                                  87\n",
       "age                                     87\n",
       "dtype: int64"
      ]
     },
     "execution_count": 20,
     "metadata": {},
     "output_type": "execute_result"
    }
   ],
   "source": [
    "c_d.isnull().sum()"
   ]
  },
  {
   "cell_type": "code",
   "execution_count": 21,
   "id": "27a7c5b4",
   "metadata": {},
   "outputs": [],
   "source": [
    "c_d[\"job_industry_category\"].fillna(\"miscellaneous\",inplace = True)"
   ]
  },
  {
   "cell_type": "code",
   "execution_count": 22,
   "id": "3bc492a0",
   "metadata": {},
   "outputs": [],
   "source": [
    "required_CD = c_d[[\"customer_id\",\"gender\",\"DOB\",\"job_industry_category\",\"wealth_segment\",\"owns_car\",\"tenure\",\"age\"]]"
   ]
  },
  {
   "cell_type": "code",
   "execution_count": 23,
   "id": "4f4683fa",
   "metadata": {},
   "outputs": [
    {
     "data": {
      "text/html": [
       "<div>\n",
       "<style scoped>\n",
       "    .dataframe tbody tr th:only-of-type {\n",
       "        vertical-align: middle;\n",
       "    }\n",
       "\n",
       "    .dataframe tbody tr th {\n",
       "        vertical-align: top;\n",
       "    }\n",
       "\n",
       "    .dataframe thead th {\n",
       "        text-align: right;\n",
       "    }\n",
       "</style>\n",
       "<table border=\"1\" class=\"dataframe\">\n",
       "  <thead>\n",
       "    <tr style=\"text-align: right;\">\n",
       "      <th></th>\n",
       "      <th>customer_id</th>\n",
       "      <th>gender</th>\n",
       "      <th>DOB</th>\n",
       "      <th>job_industry_category</th>\n",
       "      <th>wealth_segment</th>\n",
       "      <th>owns_car</th>\n",
       "      <th>tenure</th>\n",
       "      <th>age</th>\n",
       "    </tr>\n",
       "  </thead>\n",
       "  <tbody>\n",
       "    <tr>\n",
       "      <th>1</th>\n",
       "      <td>1</td>\n",
       "      <td>Female</td>\n",
       "      <td>1953-10-12</td>\n",
       "      <td>Health</td>\n",
       "      <td>Mass Customer</td>\n",
       "      <td>1</td>\n",
       "      <td>11</td>\n",
       "      <td>68.0</td>\n",
       "    </tr>\n",
       "    <tr>\n",
       "      <th>2</th>\n",
       "      <td>2</td>\n",
       "      <td>Male</td>\n",
       "      <td>1980-12-16</td>\n",
       "      <td>Financial Services</td>\n",
       "      <td>Mass Customer</td>\n",
       "      <td>1</td>\n",
       "      <td>16</td>\n",
       "      <td>41.0</td>\n",
       "    </tr>\n",
       "    <tr>\n",
       "      <th>3</th>\n",
       "      <td>3</td>\n",
       "      <td>Male</td>\n",
       "      <td>1954-01-20</td>\n",
       "      <td>Property</td>\n",
       "      <td>Mass Customer</td>\n",
       "      <td>1</td>\n",
       "      <td>15</td>\n",
       "      <td>68.0</td>\n",
       "    </tr>\n",
       "  </tbody>\n",
       "</table>\n",
       "</div>"
      ],
      "text/plain": [
       "0 customer_id  gender        DOB job_industry_category wealth_segment  \\\n",
       "1           1  Female 1953-10-12                Health  Mass Customer   \n",
       "2           2    Male 1980-12-16    Financial Services  Mass Customer   \n",
       "3           3    Male 1954-01-20              Property  Mass Customer   \n",
       "\n",
       "0  owns_car tenure   age  \n",
       "1         1     11  68.0  \n",
       "2         1     16  41.0  \n",
       "3         1     15  68.0  "
      ]
     },
     "execution_count": 23,
     "metadata": {},
     "output_type": "execute_result"
    }
   ],
   "source": [
    "required_CD.head(3)"
   ]
  },
  {
   "cell_type": "code",
   "execution_count": 24,
   "id": "5a76d22c",
   "metadata": {},
   "outputs": [
    {
     "data": {
      "text/plain": [
       "0\n",
       "customer_id               0\n",
       "gender                    0\n",
       "DOB                      87\n",
       "job_industry_category     0\n",
       "wealth_segment            0\n",
       "owns_car                  0\n",
       "tenure                   87\n",
       "age                      87\n",
       "dtype: int64"
      ]
     },
     "execution_count": 24,
     "metadata": {},
     "output_type": "execute_result"
    }
   ],
   "source": [
    "required_CD.isnull().sum()"
   ]
  },
  {
   "cell_type": "code",
   "execution_count": 25,
   "id": "02a3b74a",
   "metadata": {},
   "outputs": [
    {
     "data": {
      "text/plain": [
       "(4000, 8)"
      ]
     },
     "execution_count": 25,
     "metadata": {},
     "output_type": "execute_result"
    }
   ],
   "source": [
    "required_CD.shape"
   ]
  },
  {
   "cell_type": "code",
   "execution_count": 26,
   "id": "09b74f64",
   "metadata": {},
   "outputs": [],
   "source": [
    "required_CD = required_CD.dropna()"
   ]
  },
  {
   "cell_type": "code",
   "execution_count": 27,
   "id": "fef6d7af",
   "metadata": {},
   "outputs": [],
   "source": [
    "add_df = pd.read_excel(r\"C:\\Users\\USER\\OneDrive\\Documents\\customer_address.xlsx\")"
   ]
  },
  {
   "cell_type": "code",
   "execution_count": 28,
   "id": "54a052ba",
   "metadata": {},
   "outputs": [
    {
     "data": {
      "text/html": [
       "<div>\n",
       "<style scoped>\n",
       "    .dataframe tbody tr th:only-of-type {\n",
       "        vertical-align: middle;\n",
       "    }\n",
       "\n",
       "    .dataframe tbody tr th {\n",
       "        vertical-align: top;\n",
       "    }\n",
       "\n",
       "    .dataframe thead th {\n",
       "        text-align: right;\n",
       "    }\n",
       "</style>\n",
       "<table border=\"1\" class=\"dataframe\">\n",
       "  <thead>\n",
       "    <tr style=\"text-align: right;\">\n",
       "      <th></th>\n",
       "      <th>Unnamed: 0</th>\n",
       "      <th>Unnamed: 1</th>\n",
       "      <th>Unnamed: 2</th>\n",
       "      <th>Unnamed: 3</th>\n",
       "      <th>Unnamed: 4</th>\n",
       "      <th>Unnamed: 5</th>\n",
       "    </tr>\n",
       "  </thead>\n",
       "  <tbody>\n",
       "    <tr>\n",
       "      <th>0</th>\n",
       "      <td>customer_id</td>\n",
       "      <td>address</td>\n",
       "      <td>postcode</td>\n",
       "      <td>state</td>\n",
       "      <td>country</td>\n",
       "      <td>property_valuation</td>\n",
       "    </tr>\n",
       "    <tr>\n",
       "      <th>1</th>\n",
       "      <td>1</td>\n",
       "      <td>060 Morning Avenue</td>\n",
       "      <td>2016</td>\n",
       "      <td>New South Wales</td>\n",
       "      <td>Australia</td>\n",
       "      <td>10</td>\n",
       "    </tr>\n",
       "    <tr>\n",
       "      <th>2</th>\n",
       "      <td>2</td>\n",
       "      <td>6 Meadow Vale Court</td>\n",
       "      <td>2153</td>\n",
       "      <td>New South Wales</td>\n",
       "      <td>Australia</td>\n",
       "      <td>10</td>\n",
       "    </tr>\n",
       "    <tr>\n",
       "      <th>3</th>\n",
       "      <td>4</td>\n",
       "      <td>0 Holy Cross Court</td>\n",
       "      <td>4211</td>\n",
       "      <td>QLD</td>\n",
       "      <td>Australia</td>\n",
       "      <td>9</td>\n",
       "    </tr>\n",
       "    <tr>\n",
       "      <th>4</th>\n",
       "      <td>5</td>\n",
       "      <td>17979 Del Mar Point</td>\n",
       "      <td>2448</td>\n",
       "      <td>New South Wales</td>\n",
       "      <td>Australia</td>\n",
       "      <td>4</td>\n",
       "    </tr>\n",
       "  </tbody>\n",
       "</table>\n",
       "</div>"
      ],
      "text/plain": [
       "    Unnamed: 0           Unnamed: 1 Unnamed: 2       Unnamed: 3 Unnamed: 4  \\\n",
       "0  customer_id              address   postcode            state    country   \n",
       "1            1   060 Morning Avenue       2016  New South Wales  Australia   \n",
       "2            2  6 Meadow Vale Court       2153  New South Wales  Australia   \n",
       "3            4   0 Holy Cross Court       4211              QLD  Australia   \n",
       "4            5  17979 Del Mar Point       2448  New South Wales  Australia   \n",
       "\n",
       "           Unnamed: 5  \n",
       "0  property_valuation  \n",
       "1                  10  \n",
       "2                  10  \n",
       "3                   9  \n",
       "4                   4  "
      ]
     },
     "execution_count": 28,
     "metadata": {},
     "output_type": "execute_result"
    }
   ],
   "source": [
    "add_df.head()"
   ]
  },
  {
   "cell_type": "code",
   "execution_count": 29,
   "id": "aee1e1b8",
   "metadata": {},
   "outputs": [],
   "source": [
    "header = add_df.iloc[0]\n",
    "add_df = add_df[1:]\n",
    "add_df.columns = header"
   ]
  },
  {
   "cell_type": "code",
   "execution_count": 30,
   "id": "8819f3c7",
   "metadata": {},
   "outputs": [
    {
     "data": {
      "text/html": [
       "<div>\n",
       "<style scoped>\n",
       "    .dataframe tbody tr th:only-of-type {\n",
       "        vertical-align: middle;\n",
       "    }\n",
       "\n",
       "    .dataframe tbody tr th {\n",
       "        vertical-align: top;\n",
       "    }\n",
       "\n",
       "    .dataframe thead th {\n",
       "        text-align: right;\n",
       "    }\n",
       "</style>\n",
       "<table border=\"1\" class=\"dataframe\">\n",
       "  <thead>\n",
       "    <tr style=\"text-align: right;\">\n",
       "      <th></th>\n",
       "      <th>customer_id</th>\n",
       "      <th>address</th>\n",
       "      <th>postcode</th>\n",
       "      <th>state</th>\n",
       "      <th>country</th>\n",
       "      <th>property_valuation</th>\n",
       "    </tr>\n",
       "  </thead>\n",
       "  <tbody>\n",
       "    <tr>\n",
       "      <th>1</th>\n",
       "      <td>1</td>\n",
       "      <td>060 Morning Avenue</td>\n",
       "      <td>2016</td>\n",
       "      <td>New South Wales</td>\n",
       "      <td>Australia</td>\n",
       "      <td>10</td>\n",
       "    </tr>\n",
       "    <tr>\n",
       "      <th>2</th>\n",
       "      <td>2</td>\n",
       "      <td>6 Meadow Vale Court</td>\n",
       "      <td>2153</td>\n",
       "      <td>New South Wales</td>\n",
       "      <td>Australia</td>\n",
       "      <td>10</td>\n",
       "    </tr>\n",
       "    <tr>\n",
       "      <th>3</th>\n",
       "      <td>4</td>\n",
       "      <td>0 Holy Cross Court</td>\n",
       "      <td>4211</td>\n",
       "      <td>QLD</td>\n",
       "      <td>Australia</td>\n",
       "      <td>9</td>\n",
       "    </tr>\n",
       "  </tbody>\n",
       "</table>\n",
       "</div>"
      ],
      "text/plain": [
       "0 customer_id              address postcode            state    country  \\\n",
       "1           1   060 Morning Avenue     2016  New South Wales  Australia   \n",
       "2           2  6 Meadow Vale Court     2153  New South Wales  Australia   \n",
       "3           4   0 Holy Cross Court     4211              QLD  Australia   \n",
       "\n",
       "0 property_valuation  \n",
       "1                 10  \n",
       "2                 10  \n",
       "3                  9  "
      ]
     },
     "execution_count": 30,
     "metadata": {},
     "output_type": "execute_result"
    }
   ],
   "source": [
    "add_df.head(3)"
   ]
  },
  {
   "cell_type": "code",
   "execution_count": 31,
   "id": "ffcd7109",
   "metadata": {},
   "outputs": [
    {
     "data": {
      "text/plain": [
       "array(['New South Wales', 'QLD', 'VIC', 'NSW', 'Victoria'], dtype=object)"
      ]
     },
     "execution_count": 31,
     "metadata": {},
     "output_type": "execute_result"
    }
   ],
   "source": [
    "add_df[\"state\"].unique()"
   ]
  },
  {
   "cell_type": "code",
   "execution_count": 32,
   "id": "a99acc4e",
   "metadata": {},
   "outputs": [],
   "source": [
    "add_df[\"state\"] = add_df[\"state\"].replace([\"New South Wales\",\"Victoria\"],[\"NSW\",\"VIC\"])"
   ]
  },
  {
   "cell_type": "code",
   "execution_count": 33,
   "id": "18bb8b9a",
   "metadata": {
    "scrolled": true
   },
   "outputs": [
    {
     "data": {
      "text/plain": [
       "0\n",
       "customer_id           0\n",
       "address               0\n",
       "postcode              0\n",
       "state                 0\n",
       "country               0\n",
       "property_valuation    0\n",
       "dtype: int64"
      ]
     },
     "execution_count": 33,
     "metadata": {},
     "output_type": "execute_result"
    }
   ],
   "source": [
    "add_df.isnull().sum()"
   ]
  },
  {
   "cell_type": "code",
   "execution_count": 34,
   "id": "d4345d37",
   "metadata": {},
   "outputs": [],
   "source": [
    "required_add = add_df[[\"customer_id\",\"state\",\"property_valuation\"]]"
   ]
  },
  {
   "cell_type": "code",
   "execution_count": 35,
   "id": "39c4cacd",
   "metadata": {},
   "outputs": [],
   "source": [
    "t_df = pd.read_excel(r\"C:\\Users\\USER\\OneDrive\\Documents\\transactions.xlsx\")"
   ]
  },
  {
   "cell_type": "code",
   "execution_count": 36,
   "id": "c4503f6c",
   "metadata": {},
   "outputs": [],
   "source": [
    "n_header = t_df.iloc[0]\n",
    "t_df = t_df[1:]\n",
    "t_df.columns = n_header"
   ]
  },
  {
   "cell_type": "code",
   "execution_count": 37,
   "id": "3be867fd",
   "metadata": {},
   "outputs": [
    {
     "data": {
      "text/html": [
       "<div>\n",
       "<style scoped>\n",
       "    .dataframe tbody tr th:only-of-type {\n",
       "        vertical-align: middle;\n",
       "    }\n",
       "\n",
       "    .dataframe tbody tr th {\n",
       "        vertical-align: top;\n",
       "    }\n",
       "\n",
       "    .dataframe thead th {\n",
       "        text-align: right;\n",
       "    }\n",
       "</style>\n",
       "<table border=\"1\" class=\"dataframe\">\n",
       "  <thead>\n",
       "    <tr style=\"text-align: right;\">\n",
       "      <th></th>\n",
       "      <th>transaction_id</th>\n",
       "      <th>product_id</th>\n",
       "      <th>customer_id</th>\n",
       "      <th>transaction_date</th>\n",
       "      <th>online_order</th>\n",
       "      <th>order_status</th>\n",
       "      <th>brand</th>\n",
       "      <th>product_line</th>\n",
       "      <th>product_class</th>\n",
       "      <th>product_size</th>\n",
       "      <th>list_price</th>\n",
       "      <th>standard_cost</th>\n",
       "      <th>product_first_sold_date</th>\n",
       "    </tr>\n",
       "  </thead>\n",
       "  <tbody>\n",
       "    <tr>\n",
       "      <th>1</th>\n",
       "      <td>1</td>\n",
       "      <td>2</td>\n",
       "      <td>2950</td>\n",
       "      <td>2017-02-25 00:00:00</td>\n",
       "      <td>False</td>\n",
       "      <td>Approved</td>\n",
       "      <td>Solex</td>\n",
       "      <td>Standard</td>\n",
       "      <td>medium</td>\n",
       "      <td>medium</td>\n",
       "      <td>71.49</td>\n",
       "      <td>53.62</td>\n",
       "      <td>41245</td>\n",
       "    </tr>\n",
       "    <tr>\n",
       "      <th>2</th>\n",
       "      <td>2</td>\n",
       "      <td>3</td>\n",
       "      <td>3120</td>\n",
       "      <td>2017-05-21 00:00:00</td>\n",
       "      <td>True</td>\n",
       "      <td>Approved</td>\n",
       "      <td>Trek Bicycles</td>\n",
       "      <td>Standard</td>\n",
       "      <td>medium</td>\n",
       "      <td>large</td>\n",
       "      <td>2091.47</td>\n",
       "      <td>388.92</td>\n",
       "      <td>41701</td>\n",
       "    </tr>\n",
       "    <tr>\n",
       "      <th>3</th>\n",
       "      <td>3</td>\n",
       "      <td>37</td>\n",
       "      <td>402</td>\n",
       "      <td>2017-10-16 00:00:00</td>\n",
       "      <td>False</td>\n",
       "      <td>Approved</td>\n",
       "      <td>OHM Cycles</td>\n",
       "      <td>Standard</td>\n",
       "      <td>low</td>\n",
       "      <td>medium</td>\n",
       "      <td>1793.43</td>\n",
       "      <td>248.82</td>\n",
       "      <td>36361</td>\n",
       "    </tr>\n",
       "    <tr>\n",
       "      <th>4</th>\n",
       "      <td>4</td>\n",
       "      <td>88</td>\n",
       "      <td>3135</td>\n",
       "      <td>2017-08-31 00:00:00</td>\n",
       "      <td>False</td>\n",
       "      <td>Approved</td>\n",
       "      <td>Norco Bicycles</td>\n",
       "      <td>Standard</td>\n",
       "      <td>medium</td>\n",
       "      <td>medium</td>\n",
       "      <td>1198.46</td>\n",
       "      <td>381.1</td>\n",
       "      <td>36145</td>\n",
       "    </tr>\n",
       "    <tr>\n",
       "      <th>5</th>\n",
       "      <td>5</td>\n",
       "      <td>78</td>\n",
       "      <td>787</td>\n",
       "      <td>2017-10-01 00:00:00</td>\n",
       "      <td>True</td>\n",
       "      <td>Approved</td>\n",
       "      <td>Giant Bicycles</td>\n",
       "      <td>Standard</td>\n",
       "      <td>medium</td>\n",
       "      <td>large</td>\n",
       "      <td>1765.3</td>\n",
       "      <td>709.48</td>\n",
       "      <td>42226</td>\n",
       "    </tr>\n",
       "  </tbody>\n",
       "</table>\n",
       "</div>"
      ],
      "text/plain": [
       "0 transaction_id product_id customer_id     transaction_date online_order  \\\n",
       "1              1          2        2950  2017-02-25 00:00:00        False   \n",
       "2              2          3        3120  2017-05-21 00:00:00         True   \n",
       "3              3         37         402  2017-10-16 00:00:00        False   \n",
       "4              4         88        3135  2017-08-31 00:00:00        False   \n",
       "5              5         78         787  2017-10-01 00:00:00         True   \n",
       "\n",
       "0 order_status           brand product_line product_class product_size  \\\n",
       "1     Approved           Solex     Standard        medium       medium   \n",
       "2     Approved   Trek Bicycles     Standard        medium        large   \n",
       "3     Approved      OHM Cycles     Standard           low       medium   \n",
       "4     Approved  Norco Bicycles     Standard        medium       medium   \n",
       "5     Approved  Giant Bicycles     Standard        medium        large   \n",
       "\n",
       "0 list_price standard_cost product_first_sold_date  \n",
       "1      71.49         53.62                   41245  \n",
       "2    2091.47        388.92                   41701  \n",
       "3    1793.43        248.82                   36361  \n",
       "4    1198.46         381.1                   36145  \n",
       "5     1765.3        709.48                   42226  "
      ]
     },
     "execution_count": 37,
     "metadata": {},
     "output_type": "execute_result"
    }
   ],
   "source": [
    "t_df.head()"
   ]
  },
  {
   "cell_type": "code",
   "execution_count": 38,
   "id": "b8c0b79d",
   "metadata": {},
   "outputs": [
    {
     "data": {
      "text/plain": [
       "(20000, 13)"
      ]
     },
     "execution_count": 38,
     "metadata": {},
     "output_type": "execute_result"
    }
   ],
   "source": [
    "t_df.shape"
   ]
  },
  {
   "cell_type": "code",
   "execution_count": 39,
   "id": "5c8856c7",
   "metadata": {},
   "outputs": [
    {
     "data": {
      "text/plain": [
       "0\n",
       "transaction_id               0\n",
       "product_id                   0\n",
       "customer_id                  0\n",
       "transaction_date             0\n",
       "online_order               360\n",
       "order_status                 0\n",
       "brand                      197\n",
       "product_line               197\n",
       "product_class              197\n",
       "product_size               197\n",
       "list_price                   0\n",
       "standard_cost              197\n",
       "product_first_sold_date    197\n",
       "dtype: int64"
      ]
     },
     "execution_count": 39,
     "metadata": {},
     "output_type": "execute_result"
    }
   ],
   "source": [
    "t_df.isnull().sum()"
   ]
  },
  {
   "cell_type": "code",
   "execution_count": 40,
   "id": "b2d7a78d",
   "metadata": {},
   "outputs": [],
   "source": [
    "clean_t_df = t_df.dropna()"
   ]
  },
  {
   "cell_type": "code",
   "execution_count": 41,
   "id": "f88b2ed0",
   "metadata": {},
   "outputs": [
    {
     "data": {
      "text/plain": [
       "(19445, 13)"
      ]
     },
     "execution_count": 41,
     "metadata": {},
     "output_type": "execute_result"
    }
   ],
   "source": [
    "clean_t_df.shape"
   ]
  },
  {
   "cell_type": "code",
   "execution_count": 42,
   "id": "f8dee3cc",
   "metadata": {},
   "outputs": [],
   "source": [
    "last_purchase = clean_t_df[\"transaction_date\"].max()"
   ]
  },
  {
   "cell_type": "code",
   "execution_count": 43,
   "id": "53726d5e",
   "metadata": {},
   "outputs": [
    {
     "name": "stderr",
     "output_type": "stream",
     "text": [
      "C:\\Users\\USER\\AppData\\Local\\Temp/ipykernel_14384/3073187205.py:1: SettingWithCopyWarning: \n",
      "A value is trying to be set on a copy of a slice from a DataFrame.\n",
      "Try using .loc[row_indexer,col_indexer] = value instead\n",
      "\n",
      "See the caveats in the documentation: https://pandas.pydata.org/pandas-docs/stable/user_guide/indexing.html#returning-a-view-versus-a-copy\n",
      "  clean_t_df[\"last_buy_days_ago\"] = last_purchase - clean_t_df[\"transaction_date\"]\n"
     ]
    }
   ],
   "source": [
    "clean_t_df[\"last_buy_days_ago\"] = last_purchase - clean_t_df[\"transaction_date\"]"
   ]
  },
  {
   "cell_type": "code",
   "execution_count": 44,
   "id": "69fdf11c",
   "metadata": {},
   "outputs": [
    {
     "name": "stderr",
     "output_type": "stream",
     "text": [
      "C:\\Users\\USER\\AppData\\Local\\Temp/ipykernel_14384/3063771555.py:1: SettingWithCopyWarning: \n",
      "A value is trying to be set on a copy of a slice from a DataFrame.\n",
      "Try using .loc[row_indexer,col_indexer] = value instead\n",
      "\n",
      "See the caveats in the documentation: https://pandas.pydata.org/pandas-docs/stable/user_guide/indexing.html#returning-a-view-versus-a-copy\n",
      "  clean_t_df[\"profit\"] = clean_t_df[\"list_price\"]-clean_t_df[\"standard_cost\"]\n"
     ]
    }
   ],
   "source": [
    "clean_t_df[\"profit\"] = clean_t_df[\"list_price\"]-clean_t_df[\"standard_cost\"]"
   ]
  },
  {
   "cell_type": "code",
   "execution_count": 45,
   "id": "ca63a644",
   "metadata": {},
   "outputs": [
    {
     "data": {
      "text/plain": [
       "1          17.87\n",
       "2        1702.55\n",
       "3        1544.61\n",
       "4         817.36\n",
       "5        1055.82\n",
       "          ...   \n",
       "19996     802.26\n",
       "19997     104.24\n",
       "19998    1592.19\n",
       "19999      91.15\n",
       "20000     195.34\n",
       "Name: profit, Length: 19445, dtype: object"
      ]
     },
     "execution_count": 45,
     "metadata": {},
     "output_type": "execute_result"
    }
   ],
   "source": [
    "clean_t_df[\"profit\"]"
   ]
  },
  {
   "cell_type": "code",
   "execution_count": 46,
   "id": "9d4cbc2f",
   "metadata": {},
   "outputs": [
    {
     "data": {
      "text/html": [
       "<div>\n",
       "<style scoped>\n",
       "    .dataframe tbody tr th:only-of-type {\n",
       "        vertical-align: middle;\n",
       "    }\n",
       "\n",
       "    .dataframe tbody tr th {\n",
       "        vertical-align: top;\n",
       "    }\n",
       "\n",
       "    .dataframe thead th {\n",
       "        text-align: right;\n",
       "    }\n",
       "</style>\n",
       "<table border=\"1\" class=\"dataframe\">\n",
       "  <thead>\n",
       "    <tr style=\"text-align: right;\">\n",
       "      <th></th>\n",
       "      <th>transaction_id</th>\n",
       "      <th>product_id</th>\n",
       "      <th>customer_id</th>\n",
       "      <th>transaction_date</th>\n",
       "      <th>online_order</th>\n",
       "      <th>order_status</th>\n",
       "      <th>brand</th>\n",
       "      <th>product_line</th>\n",
       "      <th>product_class</th>\n",
       "      <th>product_size</th>\n",
       "      <th>list_price</th>\n",
       "      <th>standard_cost</th>\n",
       "      <th>product_first_sold_date</th>\n",
       "      <th>last_buy_days_ago</th>\n",
       "      <th>profit</th>\n",
       "    </tr>\n",
       "  </thead>\n",
       "  <tbody>\n",
       "    <tr>\n",
       "      <th>94</th>\n",
       "      <td>94</td>\n",
       "      <td>86</td>\n",
       "      <td>1</td>\n",
       "      <td>2017-12-23 00:00:00</td>\n",
       "      <td>False</td>\n",
       "      <td>Approved</td>\n",
       "      <td>OHM Cycles</td>\n",
       "      <td>Standard</td>\n",
       "      <td>medium</td>\n",
       "      <td>medium</td>\n",
       "      <td>235.63</td>\n",
       "      <td>125.07</td>\n",
       "      <td>38482</td>\n",
       "      <td>7 days</td>\n",
       "      <td>110.56</td>\n",
       "    </tr>\n",
       "    <tr>\n",
       "      <th>5157</th>\n",
       "      <td>5157</td>\n",
       "      <td>47</td>\n",
       "      <td>1</td>\n",
       "      <td>2017-05-11 00:00:00</td>\n",
       "      <td>True</td>\n",
       "      <td>Approved</td>\n",
       "      <td>Trek Bicycles</td>\n",
       "      <td>Road</td>\n",
       "      <td>low</td>\n",
       "      <td>small</td>\n",
       "      <td>1720.7</td>\n",
       "      <td>1531.42</td>\n",
       "      <td>37823</td>\n",
       "      <td>233 days</td>\n",
       "      <td>189.28</td>\n",
       "    </tr>\n",
       "    <tr>\n",
       "      <th>18970</th>\n",
       "      <td>18970</td>\n",
       "      <td>11</td>\n",
       "      <td>1</td>\n",
       "      <td>2017-03-29 00:00:00</td>\n",
       "      <td>True</td>\n",
       "      <td>Approved</td>\n",
       "      <td>Giant Bicycles</td>\n",
       "      <td>Standard</td>\n",
       "      <td>high</td>\n",
       "      <td>medium</td>\n",
       "      <td>1274.93</td>\n",
       "      <td>764.96</td>\n",
       "      <td>35378</td>\n",
       "      <td>276 days</td>\n",
       "      <td>509.97</td>\n",
       "    </tr>\n",
       "    <tr>\n",
       "      <th>13424</th>\n",
       "      <td>13424</td>\n",
       "      <td>2</td>\n",
       "      <td>1</td>\n",
       "      <td>2017-02-21 00:00:00</td>\n",
       "      <td>False</td>\n",
       "      <td>Approved</td>\n",
       "      <td>Solex</td>\n",
       "      <td>Standard</td>\n",
       "      <td>medium</td>\n",
       "      <td>medium</td>\n",
       "      <td>71.49</td>\n",
       "      <td>53.62</td>\n",
       "      <td>38573</td>\n",
       "      <td>312 days</td>\n",
       "      <td>17.87</td>\n",
       "    </tr>\n",
       "    <tr>\n",
       "      <th>15663</th>\n",
       "      <td>15663</td>\n",
       "      <td>32</td>\n",
       "      <td>1</td>\n",
       "      <td>2017-06-04 00:00:00</td>\n",
       "      <td>True</td>\n",
       "      <td>Approved</td>\n",
       "      <td>Giant Bicycles</td>\n",
       "      <td>Standard</td>\n",
       "      <td>medium</td>\n",
       "      <td>medium</td>\n",
       "      <td>642.7</td>\n",
       "      <td>211.37</td>\n",
       "      <td>40618</td>\n",
       "      <td>209 days</td>\n",
       "      <td>431.33</td>\n",
       "    </tr>\n",
       "    <tr>\n",
       "      <th>...</th>\n",
       "      <td>...</td>\n",
       "      <td>...</td>\n",
       "      <td>...</td>\n",
       "      <td>...</td>\n",
       "      <td>...</td>\n",
       "      <td>...</td>\n",
       "      <td>...</td>\n",
       "      <td>...</td>\n",
       "      <td>...</td>\n",
       "      <td>...</td>\n",
       "      <td>...</td>\n",
       "      <td>...</td>\n",
       "      <td>...</td>\n",
       "      <td>...</td>\n",
       "      <td>...</td>\n",
       "    </tr>\n",
       "    <tr>\n",
       "      <th>8562</th>\n",
       "      <td>8562</td>\n",
       "      <td>33</td>\n",
       "      <td>3500</td>\n",
       "      <td>2017-08-08 00:00:00</td>\n",
       "      <td>False</td>\n",
       "      <td>Approved</td>\n",
       "      <td>Giant Bicycles</td>\n",
       "      <td>Standard</td>\n",
       "      <td>medium</td>\n",
       "      <td>small</td>\n",
       "      <td>1311.44</td>\n",
       "      <td>1167.18</td>\n",
       "      <td>33888</td>\n",
       "      <td>144 days</td>\n",
       "      <td>144.26</td>\n",
       "    </tr>\n",
       "    <tr>\n",
       "      <th>6309</th>\n",
       "      <td>6309</td>\n",
       "      <td>69</td>\n",
       "      <td>3500</td>\n",
       "      <td>2017-01-09 00:00:00</td>\n",
       "      <td>True</td>\n",
       "      <td>Approved</td>\n",
       "      <td>Giant Bicycles</td>\n",
       "      <td>Road</td>\n",
       "      <td>medium</td>\n",
       "      <td>medium</td>\n",
       "      <td>792.9</td>\n",
       "      <td>594.68</td>\n",
       "      <td>33879</td>\n",
       "      <td>355 days</td>\n",
       "      <td>198.22</td>\n",
       "    </tr>\n",
       "    <tr>\n",
       "      <th>17469</th>\n",
       "      <td>17469</td>\n",
       "      <td>0</td>\n",
       "      <td>5034</td>\n",
       "      <td>2017-01-03 00:00:00</td>\n",
       "      <td>False</td>\n",
       "      <td>Approved</td>\n",
       "      <td>OHM Cycles</td>\n",
       "      <td>Road</td>\n",
       "      <td>medium</td>\n",
       "      <td>medium</td>\n",
       "      <td>742.54</td>\n",
       "      <td>667.400024</td>\n",
       "      <td>33879</td>\n",
       "      <td>361 days</td>\n",
       "      <td>75.139976</td>\n",
       "    </tr>\n",
       "    <tr>\n",
       "      <th>8708</th>\n",
       "      <td>8708</td>\n",
       "      <td>0</td>\n",
       "      <td>5034</td>\n",
       "      <td>2017-10-07 00:00:00</td>\n",
       "      <td>False</td>\n",
       "      <td>Approved</td>\n",
       "      <td>Solex</td>\n",
       "      <td>Road</td>\n",
       "      <td>medium</td>\n",
       "      <td>medium</td>\n",
       "      <td>416.98</td>\n",
       "      <td>312.735016</td>\n",
       "      <td>42218</td>\n",
       "      <td>84 days</td>\n",
       "      <td>104.244984</td>\n",
       "    </tr>\n",
       "    <tr>\n",
       "      <th>16701</th>\n",
       "      <td>16701</td>\n",
       "      <td>0</td>\n",
       "      <td>5034</td>\n",
       "      <td>2017-01-27 00:00:00</td>\n",
       "      <td>False</td>\n",
       "      <td>Approved</td>\n",
       "      <td>Norco Bicycles</td>\n",
       "      <td>Standard</td>\n",
       "      <td>medium</td>\n",
       "      <td>medium</td>\n",
       "      <td>360.4</td>\n",
       "      <td>270.299988</td>\n",
       "      <td>35667</td>\n",
       "      <td>337 days</td>\n",
       "      <td>90.100012</td>\n",
       "    </tr>\n",
       "  </tbody>\n",
       "</table>\n",
       "<p>19445 rows × 15 columns</p>\n",
       "</div>"
      ],
      "text/plain": [
       "0     transaction_id product_id customer_id     transaction_date online_order  \\\n",
       "94                94         86           1  2017-12-23 00:00:00        False   \n",
       "5157            5157         47           1  2017-05-11 00:00:00         True   \n",
       "18970          18970         11           1  2017-03-29 00:00:00         True   \n",
       "13424          13424          2           1  2017-02-21 00:00:00        False   \n",
       "15663          15663         32           1  2017-06-04 00:00:00         True   \n",
       "...              ...        ...         ...                  ...          ...   \n",
       "8562            8562         33        3500  2017-08-08 00:00:00        False   \n",
       "6309            6309         69        3500  2017-01-09 00:00:00         True   \n",
       "17469          17469          0        5034  2017-01-03 00:00:00        False   \n",
       "8708            8708          0        5034  2017-10-07 00:00:00        False   \n",
       "16701          16701          0        5034  2017-01-27 00:00:00        False   \n",
       "\n",
       "0     order_status           brand product_line product_class product_size  \\\n",
       "94        Approved      OHM Cycles     Standard        medium       medium   \n",
       "5157      Approved   Trek Bicycles         Road           low        small   \n",
       "18970     Approved  Giant Bicycles     Standard          high       medium   \n",
       "13424     Approved           Solex     Standard        medium       medium   \n",
       "15663     Approved  Giant Bicycles     Standard        medium       medium   \n",
       "...            ...             ...          ...           ...          ...   \n",
       "8562      Approved  Giant Bicycles     Standard        medium        small   \n",
       "6309      Approved  Giant Bicycles         Road        medium       medium   \n",
       "17469     Approved      OHM Cycles         Road        medium       medium   \n",
       "8708      Approved           Solex         Road        medium       medium   \n",
       "16701     Approved  Norco Bicycles     Standard        medium       medium   \n",
       "\n",
       "0     list_price standard_cost product_first_sold_date last_buy_days_ago  \\\n",
       "94        235.63        125.07                   38482            7 days   \n",
       "5157      1720.7       1531.42                   37823          233 days   \n",
       "18970    1274.93        764.96                   35378          276 days   \n",
       "13424      71.49         53.62                   38573          312 days   \n",
       "15663      642.7        211.37                   40618          209 days   \n",
       "...          ...           ...                     ...               ...   \n",
       "8562     1311.44       1167.18                   33888          144 days   \n",
       "6309       792.9        594.68                   33879          355 days   \n",
       "17469     742.54    667.400024                   33879          361 days   \n",
       "8708      416.98    312.735016                   42218           84 days   \n",
       "16701      360.4    270.299988                   35667          337 days   \n",
       "\n",
       "0          profit  \n",
       "94         110.56  \n",
       "5157       189.28  \n",
       "18970      509.97  \n",
       "13424       17.87  \n",
       "15663      431.33  \n",
       "...           ...  \n",
       "8562       144.26  \n",
       "6309       198.22  \n",
       "17469   75.139976  \n",
       "8708   104.244984  \n",
       "16701   90.100012  \n",
       "\n",
       "[19445 rows x 15 columns]"
      ]
     },
     "execution_count": 46,
     "metadata": {},
     "output_type": "execute_result"
    }
   ],
   "source": [
    "clean_t_df.sort_values(\"customer_id\")"
   ]
  },
  {
   "cell_type": "code",
   "execution_count": 47,
   "id": "427bef84",
   "metadata": {},
   "outputs": [],
   "source": [
    "r_tdf = clean_t_df.groupby(\"customer_id\").agg({\n",
    "    \"last_buy_days_ago\" : lambda x: x.min(),\n",
    "    \"customer_id\": lambda x: len(x),\n",
    "    \"profit\" : lambda x: x.sum()\n",
    "})"
   ]
  },
  {
   "cell_type": "code",
   "execution_count": 48,
   "id": "ebeee99f",
   "metadata": {},
   "outputs": [
    {
     "data": {
      "text/html": [
       "<div>\n",
       "<style scoped>\n",
       "    .dataframe tbody tr th:only-of-type {\n",
       "        vertical-align: middle;\n",
       "    }\n",
       "\n",
       "    .dataframe tbody tr th {\n",
       "        vertical-align: top;\n",
       "    }\n",
       "\n",
       "    .dataframe thead th {\n",
       "        text-align: right;\n",
       "    }\n",
       "</style>\n",
       "<table border=\"1\" class=\"dataframe\">\n",
       "  <thead>\n",
       "    <tr style=\"text-align: right;\">\n",
       "      <th></th>\n",
       "      <th>last_buy_days_ago</th>\n",
       "      <th>customer_id</th>\n",
       "      <th>profit</th>\n",
       "    </tr>\n",
       "    <tr>\n",
       "      <th>customer_id</th>\n",
       "      <th></th>\n",
       "      <th></th>\n",
       "      <th></th>\n",
       "    </tr>\n",
       "  </thead>\n",
       "  <tbody>\n",
       "    <tr>\n",
       "      <th>1</th>\n",
       "      <td>7 days</td>\n",
       "      <td>11</td>\n",
       "      <td>3018.09</td>\n",
       "    </tr>\n",
       "    <tr>\n",
       "      <th>2</th>\n",
       "      <td>128 days</td>\n",
       "      <td>3</td>\n",
       "      <td>2226.26</td>\n",
       "    </tr>\n",
       "    <tr>\n",
       "      <th>3</th>\n",
       "      <td>102 days</td>\n",
       "      <td>7</td>\n",
       "      <td>3290.21</td>\n",
       "    </tr>\n",
       "    <tr>\n",
       "      <th>4</th>\n",
       "      <td>195 days</td>\n",
       "      <td>2</td>\n",
       "      <td>220.57</td>\n",
       "    </tr>\n",
       "    <tr>\n",
       "      <th>5</th>\n",
       "      <td>16 days</td>\n",
       "      <td>6</td>\n",
       "      <td>2394.94</td>\n",
       "    </tr>\n",
       "  </tbody>\n",
       "</table>\n",
       "</div>"
      ],
      "text/plain": [
       "0           last_buy_days_ago  customer_id   profit\n",
       "customer_id                                        \n",
       "1                      7 days           11  3018.09\n",
       "2                    128 days            3  2226.26\n",
       "3                    102 days            7  3290.21\n",
       "4                    195 days            2   220.57\n",
       "5                     16 days            6  2394.94"
      ]
     },
     "execution_count": 48,
     "metadata": {},
     "output_type": "execute_result"
    }
   ],
   "source": [
    "r_tdf.head()"
   ]
  },
  {
   "cell_type": "code",
   "execution_count": 49,
   "id": "d306a78a",
   "metadata": {},
   "outputs": [],
   "source": [
    "r_tdf.rename(columns = {\n",
    "    'customer_id' : 'frequency'\n",
    "},inplace=True)"
   ]
  },
  {
   "cell_type": "code",
   "execution_count": 50,
   "id": "d9a5b66d",
   "metadata": {},
   "outputs": [
    {
     "data": {
      "text/plain": [
       "(3492, 3)"
      ]
     },
     "execution_count": 50,
     "metadata": {},
     "output_type": "execute_result"
    }
   ],
   "source": [
    "r_tdf.shape"
   ]
  },
  {
   "cell_type": "code",
   "execution_count": 51,
   "id": "90f4a332",
   "metadata": {},
   "outputs": [],
   "source": [
    "def f(row):\n",
    "    if row['profit']>3000:\n",
    "        value = 'Gold'\n",
    "    elif (row['profit']<3000) & (row['profit']>2000):\n",
    "        value = 'Silver'\n",
    "    elif (row['profit']<2000) & (row['profit']>1000):\n",
    "        value = 'Bronze'\n",
    "    else:\n",
    "        value = 'Basic'\n",
    "    return value"
   ]
  },
  {
   "cell_type": "code",
   "execution_count": 52,
   "id": "60b00ef8",
   "metadata": {},
   "outputs": [],
   "source": [
    "r_tdf[\"customer_title\"] = r_tdf.apply(f,axis = 1)"
   ]
  },
  {
   "cell_type": "code",
   "execution_count": 53,
   "id": "df9be09a",
   "metadata": {},
   "outputs": [
    {
     "data": {
      "text/html": [
       "<div>\n",
       "<style scoped>\n",
       "    .dataframe tbody tr th:only-of-type {\n",
       "        vertical-align: middle;\n",
       "    }\n",
       "\n",
       "    .dataframe tbody tr th {\n",
       "        vertical-align: top;\n",
       "    }\n",
       "\n",
       "    .dataframe thead th {\n",
       "        text-align: right;\n",
       "    }\n",
       "</style>\n",
       "<table border=\"1\" class=\"dataframe\">\n",
       "  <thead>\n",
       "    <tr style=\"text-align: right;\">\n",
       "      <th></th>\n",
       "      <th>last_buy_days_ago</th>\n",
       "      <th>frequency</th>\n",
       "      <th>profit</th>\n",
       "      <th>customer_title</th>\n",
       "    </tr>\n",
       "    <tr>\n",
       "      <th>customer_id</th>\n",
       "      <th></th>\n",
       "      <th></th>\n",
       "      <th></th>\n",
       "      <th></th>\n",
       "    </tr>\n",
       "  </thead>\n",
       "  <tbody>\n",
       "    <tr>\n",
       "      <th>1</th>\n",
       "      <td>7 days</td>\n",
       "      <td>11</td>\n",
       "      <td>3018.09</td>\n",
       "      <td>Gold</td>\n",
       "    </tr>\n",
       "    <tr>\n",
       "      <th>2</th>\n",
       "      <td>128 days</td>\n",
       "      <td>3</td>\n",
       "      <td>2226.26</td>\n",
       "      <td>Silver</td>\n",
       "    </tr>\n",
       "    <tr>\n",
       "      <th>3</th>\n",
       "      <td>102 days</td>\n",
       "      <td>7</td>\n",
       "      <td>3290.21</td>\n",
       "      <td>Gold</td>\n",
       "    </tr>\n",
       "  </tbody>\n",
       "</table>\n",
       "</div>"
      ],
      "text/plain": [
       "0           last_buy_days_ago  frequency   profit customer_title\n",
       "customer_id                                                     \n",
       "1                      7 days         11  3018.09           Gold\n",
       "2                    128 days          3  2226.26         Silver\n",
       "3                    102 days          7  3290.21           Gold"
      ]
     },
     "execution_count": 53,
     "metadata": {},
     "output_type": "execute_result"
    }
   ],
   "source": [
    "r_tdf.head(3)"
   ]
  },
  {
   "cell_type": "code",
   "execution_count": 54,
   "id": "ac2052b0",
   "metadata": {},
   "outputs": [
    {
     "data": {
      "text/html": [
       "<div>\n",
       "<style scoped>\n",
       "    .dataframe tbody tr th:only-of-type {\n",
       "        vertical-align: middle;\n",
       "    }\n",
       "\n",
       "    .dataframe tbody tr th {\n",
       "        vertical-align: top;\n",
       "    }\n",
       "\n",
       "    .dataframe thead th {\n",
       "        text-align: right;\n",
       "    }\n",
       "</style>\n",
       "<table border=\"1\" class=\"dataframe\">\n",
       "  <thead>\n",
       "    <tr style=\"text-align: right;\">\n",
       "      <th></th>\n",
       "      <th>customer_id</th>\n",
       "      <th>last_buy_days_ago</th>\n",
       "      <th>frequency</th>\n",
       "      <th>profit</th>\n",
       "      <th>customer_title</th>\n",
       "    </tr>\n",
       "  </thead>\n",
       "  <tbody>\n",
       "    <tr>\n",
       "      <th>0</th>\n",
       "      <td>1</td>\n",
       "      <td>7 days</td>\n",
       "      <td>11</td>\n",
       "      <td>3018.090000</td>\n",
       "      <td>Gold</td>\n",
       "    </tr>\n",
       "    <tr>\n",
       "      <th>1</th>\n",
       "      <td>2</td>\n",
       "      <td>128 days</td>\n",
       "      <td>3</td>\n",
       "      <td>2226.260000</td>\n",
       "      <td>Silver</td>\n",
       "    </tr>\n",
       "    <tr>\n",
       "      <th>2</th>\n",
       "      <td>3</td>\n",
       "      <td>102 days</td>\n",
       "      <td>7</td>\n",
       "      <td>3290.210000</td>\n",
       "      <td>Gold</td>\n",
       "    </tr>\n",
       "    <tr>\n",
       "      <th>3</th>\n",
       "      <td>4</td>\n",
       "      <td>195 days</td>\n",
       "      <td>2</td>\n",
       "      <td>220.570000</td>\n",
       "      <td>Basic</td>\n",
       "    </tr>\n",
       "    <tr>\n",
       "      <th>4</th>\n",
       "      <td>5</td>\n",
       "      <td>16 days</td>\n",
       "      <td>6</td>\n",
       "      <td>2394.940000</td>\n",
       "      <td>Silver</td>\n",
       "    </tr>\n",
       "    <tr>\n",
       "      <th>...</th>\n",
       "      <td>...</td>\n",
       "      <td>...</td>\n",
       "      <td>...</td>\n",
       "      <td>...</td>\n",
       "      <td>...</td>\n",
       "    </tr>\n",
       "    <tr>\n",
       "      <th>3487</th>\n",
       "      <td>3497</td>\n",
       "      <td>52 days</td>\n",
       "      <td>3</td>\n",
       "      <td>1648.320000</td>\n",
       "      <td>Bronze</td>\n",
       "    </tr>\n",
       "    <tr>\n",
       "      <th>3488</th>\n",
       "      <td>3498</td>\n",
       "      <td>127 days</td>\n",
       "      <td>6</td>\n",
       "      <td>3147.330000</td>\n",
       "      <td>Gold</td>\n",
       "    </tr>\n",
       "    <tr>\n",
       "      <th>3489</th>\n",
       "      <td>3499</td>\n",
       "      <td>51 days</td>\n",
       "      <td>7</td>\n",
       "      <td>4955.250000</td>\n",
       "      <td>Gold</td>\n",
       "    </tr>\n",
       "    <tr>\n",
       "      <th>3490</th>\n",
       "      <td>3500</td>\n",
       "      <td>144 days</td>\n",
       "      <td>6</td>\n",
       "      <td>1785.860000</td>\n",
       "      <td>Bronze</td>\n",
       "    </tr>\n",
       "    <tr>\n",
       "      <th>3491</th>\n",
       "      <td>5034</td>\n",
       "      <td>84 days</td>\n",
       "      <td>3</td>\n",
       "      <td>269.484972</td>\n",
       "      <td>Basic</td>\n",
       "    </tr>\n",
       "  </tbody>\n",
       "</table>\n",
       "<p>3492 rows × 5 columns</p>\n",
       "</div>"
      ],
      "text/plain": [
       "0     customer_id last_buy_days_ago  frequency       profit customer_title\n",
       "0               1            7 days         11  3018.090000           Gold\n",
       "1               2          128 days          3  2226.260000         Silver\n",
       "2               3          102 days          7  3290.210000           Gold\n",
       "3               4          195 days          2   220.570000          Basic\n",
       "4               5           16 days          6  2394.940000         Silver\n",
       "...           ...               ...        ...          ...            ...\n",
       "3487         3497           52 days          3  1648.320000         Bronze\n",
       "3488         3498          127 days          6  3147.330000           Gold\n",
       "3489         3499           51 days          7  4955.250000           Gold\n",
       "3490         3500          144 days          6  1785.860000         Bronze\n",
       "3491         5034           84 days          3   269.484972          Basic\n",
       "\n",
       "[3492 rows x 5 columns]"
      ]
     },
     "execution_count": 54,
     "metadata": {},
     "output_type": "execute_result"
    }
   ],
   "source": [
    "r_tdf.reset_index()"
   ]
  },
  {
   "cell_type": "code",
   "execution_count": 55,
   "id": "fa1a2900",
   "metadata": {},
   "outputs": [],
   "source": [
    "df = pd.merge(required_CD,required_add,on=\"customer_id\")"
   ]
  },
  {
   "cell_type": "code",
   "execution_count": 56,
   "id": "581a2ac7",
   "metadata": {},
   "outputs": [
    {
     "data": {
      "text/html": [
       "<div>\n",
       "<style scoped>\n",
       "    .dataframe tbody tr th:only-of-type {\n",
       "        vertical-align: middle;\n",
       "    }\n",
       "\n",
       "    .dataframe tbody tr th {\n",
       "        vertical-align: top;\n",
       "    }\n",
       "\n",
       "    .dataframe thead th {\n",
       "        text-align: right;\n",
       "    }\n",
       "</style>\n",
       "<table border=\"1\" class=\"dataframe\">\n",
       "  <thead>\n",
       "    <tr style=\"text-align: right;\">\n",
       "      <th></th>\n",
       "      <th>customer_id</th>\n",
       "      <th>gender</th>\n",
       "      <th>DOB</th>\n",
       "      <th>job_industry_category</th>\n",
       "      <th>wealth_segment</th>\n",
       "      <th>owns_car</th>\n",
       "      <th>tenure</th>\n",
       "      <th>age</th>\n",
       "      <th>state</th>\n",
       "      <th>property_valuation</th>\n",
       "    </tr>\n",
       "  </thead>\n",
       "  <tbody>\n",
       "    <tr>\n",
       "      <th>0</th>\n",
       "      <td>1</td>\n",
       "      <td>Female</td>\n",
       "      <td>1953-10-12</td>\n",
       "      <td>Health</td>\n",
       "      <td>Mass Customer</td>\n",
       "      <td>1</td>\n",
       "      <td>11</td>\n",
       "      <td>68.0</td>\n",
       "      <td>NSW</td>\n",
       "      <td>10</td>\n",
       "    </tr>\n",
       "    <tr>\n",
       "      <th>1</th>\n",
       "      <td>2</td>\n",
       "      <td>Male</td>\n",
       "      <td>1980-12-16</td>\n",
       "      <td>Financial Services</td>\n",
       "      <td>Mass Customer</td>\n",
       "      <td>1</td>\n",
       "      <td>16</td>\n",
       "      <td>41.0</td>\n",
       "      <td>NSW</td>\n",
       "      <td>10</td>\n",
       "    </tr>\n",
       "    <tr>\n",
       "      <th>2</th>\n",
       "      <td>4</td>\n",
       "      <td>Male</td>\n",
       "      <td>1961-10-03</td>\n",
       "      <td>IT</td>\n",
       "      <td>Mass Customer</td>\n",
       "      <td>0</td>\n",
       "      <td>7</td>\n",
       "      <td>60.0</td>\n",
       "      <td>QLD</td>\n",
       "      <td>9</td>\n",
       "    </tr>\n",
       "    <tr>\n",
       "      <th>3</th>\n",
       "      <td>5</td>\n",
       "      <td>Female</td>\n",
       "      <td>1977-05-13</td>\n",
       "      <td>miscellaneous</td>\n",
       "      <td>Affluent Customer</td>\n",
       "      <td>1</td>\n",
       "      <td>8</td>\n",
       "      <td>45.0</td>\n",
       "      <td>NSW</td>\n",
       "      <td>4</td>\n",
       "    </tr>\n",
       "    <tr>\n",
       "      <th>4</th>\n",
       "      <td>6</td>\n",
       "      <td>Male</td>\n",
       "      <td>1966-09-16</td>\n",
       "      <td>Retail</td>\n",
       "      <td>High Net Worth</td>\n",
       "      <td>1</td>\n",
       "      <td>13</td>\n",
       "      <td>55.0</td>\n",
       "      <td>VIC</td>\n",
       "      <td>9</td>\n",
       "    </tr>\n",
       "  </tbody>\n",
       "</table>\n",
       "</div>"
      ],
      "text/plain": [
       "0 customer_id  gender        DOB job_industry_category     wealth_segment  \\\n",
       "0           1  Female 1953-10-12                Health      Mass Customer   \n",
       "1           2    Male 1980-12-16    Financial Services      Mass Customer   \n",
       "2           4    Male 1961-10-03                    IT      Mass Customer   \n",
       "3           5  Female 1977-05-13         miscellaneous  Affluent Customer   \n",
       "4           6    Male 1966-09-16                Retail     High Net Worth   \n",
       "\n",
       "0  owns_car tenure   age state property_valuation  \n",
       "0         1     11  68.0   NSW                 10  \n",
       "1         1     16  41.0   NSW                 10  \n",
       "2         0      7  60.0   QLD                  9  \n",
       "3         1      8  45.0   NSW                  4  \n",
       "4         1     13  55.0   VIC                  9  "
      ]
     },
     "execution_count": 56,
     "metadata": {},
     "output_type": "execute_result"
    }
   ],
   "source": [
    "df.head()"
   ]
  },
  {
   "cell_type": "code",
   "execution_count": 57,
   "id": "8c39da21",
   "metadata": {},
   "outputs": [],
   "source": [
    "df = pd.merge(df,r_tdf,on = \"customer_id\")"
   ]
  },
  {
   "cell_type": "code",
   "execution_count": 58,
   "id": "ed9c8888",
   "metadata": {},
   "outputs": [
    {
     "data": {
      "text/html": [
       "<div>\n",
       "<style scoped>\n",
       "    .dataframe tbody tr th:only-of-type {\n",
       "        vertical-align: middle;\n",
       "    }\n",
       "\n",
       "    .dataframe tbody tr th {\n",
       "        vertical-align: top;\n",
       "    }\n",
       "\n",
       "    .dataframe thead th {\n",
       "        text-align: right;\n",
       "    }\n",
       "</style>\n",
       "<table border=\"1\" class=\"dataframe\">\n",
       "  <thead>\n",
       "    <tr style=\"text-align: right;\">\n",
       "      <th></th>\n",
       "      <th>customer_id</th>\n",
       "      <th>gender</th>\n",
       "      <th>DOB</th>\n",
       "      <th>job_industry_category</th>\n",
       "      <th>wealth_segment</th>\n",
       "      <th>owns_car</th>\n",
       "      <th>tenure</th>\n",
       "      <th>age</th>\n",
       "      <th>state</th>\n",
       "      <th>property_valuation</th>\n",
       "      <th>last_buy_days_ago</th>\n",
       "      <th>frequency</th>\n",
       "      <th>profit</th>\n",
       "      <th>customer_title</th>\n",
       "    </tr>\n",
       "  </thead>\n",
       "  <tbody>\n",
       "    <tr>\n",
       "      <th>0</th>\n",
       "      <td>1</td>\n",
       "      <td>Female</td>\n",
       "      <td>1953-10-12</td>\n",
       "      <td>Health</td>\n",
       "      <td>Mass Customer</td>\n",
       "      <td>1</td>\n",
       "      <td>11</td>\n",
       "      <td>68.0</td>\n",
       "      <td>NSW</td>\n",
       "      <td>10</td>\n",
       "      <td>7 days</td>\n",
       "      <td>11</td>\n",
       "      <td>3018.09</td>\n",
       "      <td>Gold</td>\n",
       "    </tr>\n",
       "    <tr>\n",
       "      <th>1</th>\n",
       "      <td>2</td>\n",
       "      <td>Male</td>\n",
       "      <td>1980-12-16</td>\n",
       "      <td>Financial Services</td>\n",
       "      <td>Mass Customer</td>\n",
       "      <td>1</td>\n",
       "      <td>16</td>\n",
       "      <td>41.0</td>\n",
       "      <td>NSW</td>\n",
       "      <td>10</td>\n",
       "      <td>128 days</td>\n",
       "      <td>3</td>\n",
       "      <td>2226.26</td>\n",
       "      <td>Silver</td>\n",
       "    </tr>\n",
       "    <tr>\n",
       "      <th>2</th>\n",
       "      <td>4</td>\n",
       "      <td>Male</td>\n",
       "      <td>1961-10-03</td>\n",
       "      <td>IT</td>\n",
       "      <td>Mass Customer</td>\n",
       "      <td>0</td>\n",
       "      <td>7</td>\n",
       "      <td>60.0</td>\n",
       "      <td>QLD</td>\n",
       "      <td>9</td>\n",
       "      <td>195 days</td>\n",
       "      <td>2</td>\n",
       "      <td>220.57</td>\n",
       "      <td>Basic</td>\n",
       "    </tr>\n",
       "    <tr>\n",
       "      <th>3</th>\n",
       "      <td>5</td>\n",
       "      <td>Female</td>\n",
       "      <td>1977-05-13</td>\n",
       "      <td>miscellaneous</td>\n",
       "      <td>Affluent Customer</td>\n",
       "      <td>1</td>\n",
       "      <td>8</td>\n",
       "      <td>45.0</td>\n",
       "      <td>NSW</td>\n",
       "      <td>4</td>\n",
       "      <td>16 days</td>\n",
       "      <td>6</td>\n",
       "      <td>2394.94</td>\n",
       "      <td>Silver</td>\n",
       "    </tr>\n",
       "    <tr>\n",
       "      <th>4</th>\n",
       "      <td>6</td>\n",
       "      <td>Male</td>\n",
       "      <td>1966-09-16</td>\n",
       "      <td>Retail</td>\n",
       "      <td>High Net Worth</td>\n",
       "      <td>1</td>\n",
       "      <td>13</td>\n",
       "      <td>55.0</td>\n",
       "      <td>VIC</td>\n",
       "      <td>9</td>\n",
       "      <td>64 days</td>\n",
       "      <td>5</td>\n",
       "      <td>3946.55</td>\n",
       "      <td>Gold</td>\n",
       "    </tr>\n",
       "  </tbody>\n",
       "</table>\n",
       "</div>"
      ],
      "text/plain": [
       "0 customer_id  gender        DOB job_industry_category     wealth_segment  \\\n",
       "0           1  Female 1953-10-12                Health      Mass Customer   \n",
       "1           2    Male 1980-12-16    Financial Services      Mass Customer   \n",
       "2           4    Male 1961-10-03                    IT      Mass Customer   \n",
       "3           5  Female 1977-05-13         miscellaneous  Affluent Customer   \n",
       "4           6    Male 1966-09-16                Retail     High Net Worth   \n",
       "\n",
       "0  owns_car tenure   age state property_valuation last_buy_days_ago  \\\n",
       "0         1     11  68.0   NSW                 10            7 days   \n",
       "1         1     16  41.0   NSW                 10          128 days   \n",
       "2         0      7  60.0   QLD                  9          195 days   \n",
       "3         1      8  45.0   NSW                  4           16 days   \n",
       "4         1     13  55.0   VIC                  9           64 days   \n",
       "\n",
       "0  frequency   profit customer_title  \n",
       "0         11  3018.09           Gold  \n",
       "1          3  2226.26         Silver  \n",
       "2          2   220.57          Basic  \n",
       "3          6  2394.94         Silver  \n",
       "4          5  3946.55           Gold  "
      ]
     },
     "execution_count": 58,
     "metadata": {},
     "output_type": "execute_result"
    }
   ],
   "source": [
    "df.head()"
   ]
  },
  {
   "cell_type": "code",
   "execution_count": 59,
   "id": "27f672fb",
   "metadata": {
    "scrolled": true
   },
   "outputs": [
    {
     "data": {
      "text/plain": [
       "Index(['Gold', 'Silver', 'Bronze', 'Basic'], dtype='object')"
      ]
     },
     "execution_count": 59,
     "metadata": {},
     "output_type": "execute_result"
    }
   ],
   "source": [
    "df[\"customer_title\"].value_counts().index"
   ]
  },
  {
   "cell_type": "code",
   "execution_count": 60,
   "id": "e7316a2d",
   "metadata": {},
   "outputs": [],
   "source": [
    "def age_group(row):\n",
    "    if row['age']<25:\n",
    "        value = 'below 25'\n",
    "    elif (row['age']<35) & (row['age']>=25):\n",
    "        value = '25-35'\n",
    "    elif (row['age']<45) & (row['age']>=35):\n",
    "        value = '35-45'\n",
    "    elif (row['age']<55) & (row['age']>=45):\n",
    "        value = '45-55'\n",
    "    elif (row['age']<65) & (row['age']>=55):\n",
    "        value = '55-65'\n",
    "    else:\n",
    "        value = '65 and above'\n",
    "    return value"
   ]
  },
  {
   "cell_type": "code",
   "execution_count": 61,
   "id": "f993d8eb",
   "metadata": {},
   "outputs": [],
   "source": [
    "df[\"age_group\"] = df.apply(age_group,axis=1)"
   ]
  },
  {
   "cell_type": "code",
   "execution_count": 62,
   "id": "75ef6742",
   "metadata": {},
   "outputs": [
    {
     "data": {
      "text/plain": [
       "<AxesSubplot:xlabel='customer_title', ylabel='count'>"
      ]
     },
     "execution_count": 62,
     "metadata": {},
     "output_type": "execute_result"
    },
    {
     "data": {
      "image/png": "[encoded data removed]",
      "text/plain": [
       "<Figure size 432x288 with 1 Axes>"
      ]
     },
     "metadata": {
      "needs_background": "light"
     },
     "output_type": "display_data"
    }
   ],
   "source": [
    "sns.countplot(x = 'customer_title',data = df,order = df[\"customer_title\"].value_counts().index)"
   ]
  },
  {
   "cell_type": "code",
   "execution_count": 63,
   "id": "46625fe9",
   "metadata": {},
   "outputs": [
    {
     "data": {
      "text/plain": [
       "dtype('<m8[ns]')"
      ]
     },
     "execution_count": 63,
     "metadata": {},
     "output_type": "execute_result"
    }
   ],
   "source": [
    "df[\"last_buy_days_ago\"].dtypes"
   ]
  },
  {
   "cell_type": "code",
   "execution_count": 64,
   "id": "ca0bc8d1",
   "metadata": {},
   "outputs": [],
   "source": [
    "df[\"last_buy_days_ago\"] = pd.to_numeric(df[\"last_buy_days_ago\"])"
   ]
  },
  {
   "cell_type": "code",
   "execution_count": 65,
   "id": "ffa76522",
   "metadata": {},
   "outputs": [
    {
     "data": {
      "text/plain": [
       "dtype('int64')"
      ]
     },
     "execution_count": 65,
     "metadata": {},
     "output_type": "execute_result"
    }
   ],
   "source": [
    "df[\"last_buy_days_ago\"].dtypes"
   ]
  },
  {
   "cell_type": "code",
   "execution_count": 66,
   "id": "4f0d9bef",
   "metadata": {},
   "outputs": [
    {
     "data": {
      "image/png": "[encoded data removed]",
      "text/plain": [
       "<Figure size 432x288 with 1 Axes>"
      ]
     },
     "metadata": {
      "needs_background": "light"
     },
     "output_type": "display_data"
    }
   ],
   "source": [
    "plt.scatter(df[\"last_buy_days_ago\"],df[\"profit\"])\n",
    "plt.title(\"last_buy_days_ago v/s profit\")\n",
    "plt.show()"
   ]
  },
  {
   "cell_type": "code",
   "execution_count": 67,
   "id": "df9bf156",
   "metadata": {},
   "outputs": [
    {
     "data": {
      "image/png": "[encoded data removed]",
      "text/plain": [
       "<Figure size 432x288 with 1 Axes>"
      ]
     },
     "metadata": {
      "needs_background": "light"
     },
     "output_type": "display_data"
    }
   ],
   "source": [
    "plt.scatter(df['frequency'], df['profit'])\n",
    "plt.title('Frequency v/s Profit')\n",
    "plt.show()"
   ]
  },
  {
   "cell_type": "code",
   "execution_count": 68,
   "id": "2def226d",
   "metadata": {},
   "outputs": [
    {
     "data": {
      "text/plain": [
       "array(['Female', 'Male', 'Unknown'], dtype=object)"
      ]
     },
     "execution_count": 68,
     "metadata": {},
     "output_type": "execute_result"
    }
   ],
   "source": [
    "df[\"gender\"].unique()"
   ]
  },
  {
   "cell_type": "code",
   "execution_count": 69,
   "id": "814d84ad",
   "metadata": {
    "scrolled": false
   },
   "outputs": [
    {
     "data": {
      "image/png": "[encoded data removed]",
      "text/plain": [
       "<Figure size 432x288 with 1 Axes>"
      ]
     },
     "metadata": {
      "needs_background": "light"
     },
     "output_type": "display_data"
    }
   ],
   "source": [
    "sns.countplot(x='wealth_segment', hue='gender', data=df)\n",
    "plt.show()"
   ]
  },
  {
   "cell_type": "code",
   "execution_count": 70,
   "id": "4db6cf40",
   "metadata": {},
   "outputs": [
    {
     "data": {
      "image/png": "[encoded data removed]",
      "text/plain": [
       "<Figure size 432x288 with 1 Axes>"
      ]
     },
     "metadata": {},
     "output_type": "display_data"
    }
   ],
   "source": [
    "df.groupby('wealth_segment').size().plot(kind='pie', autopct='%.2f')\n",
    "plt.show()"
   ]
  },
  {
   "cell_type": "code",
   "execution_count": 71,
   "id": "90116211",
   "metadata": {
    "scrolled": true
   },
   "outputs": [
    {
     "data": {
      "image/png": "[encoded data removed]",
      "text/plain": [
       "<Figure size 432x288 with 1 Axes>"
      ]
     },
     "metadata": {},
     "output_type": "display_data"
    }
   ],
   "source": [
    "df.groupby('gender').size().plot(kind='pie', autopct='%.2f')\n",
    "plt.show()"
   ]
  },
  {
   "cell_type": "code",
   "execution_count": 120,
   "id": "14645536",
   "metadata": {},
   "outputs": [
    {
     "data": {
      "image/png": "[encoded data removed]",
      "text/plain": [
       "<Figure size 432x288 with 1 Axes>"
      ]
     },
     "metadata": {
      "needs_background": "light"
     },
     "output_type": "display_data"
    }
   ],
   "source": [
    "sns.countplot(x='owns_car', hue='gender', data=df)\n",
    "plt.show()"
   ]
  },
  {
   "cell_type": "code",
   "execution_count": 72,
   "id": "f7b1e362",
   "metadata": {
    "scrolled": true
   },
   "outputs": [
    {
     "data": {
      "image/png": "[encoded data removed]",
      "text/plain": [
       "<Figure size 432x288 with 1 Axes>"
      ]
     },
     "metadata": {
      "needs_background": "light"
     },
     "output_type": "display_data"
    }
   ],
   "source": [
    "sns.countplot(x='state', hue='customer_title', data=df)\n",
    "plt.show()"
   ]
  },
  {
   "cell_type": "code",
   "execution_count": 152,
   "id": "4faf1fb8",
   "metadata": {},
   "outputs": [
    {
     "data": {
      "image/png": "[encoded data removed]",
      "text/plain": [
       "<Figure size 432x288 with 1 Axes>"
      ]
     },
     "metadata": {
      "needs_background": "light"
     },
     "output_type": "display_data"
    }
   ],
   "source": [
    "sns.countplot(x = 'state',data = df)\n",
    "plt.title(\"For old customer data\")\n",
    "plt.show()"
   ]
  },
  {
   "cell_type": "code",
   "execution_count": 156,
   "id": "2e7decdc",
   "metadata": {},
   "outputs": [
    {
     "data": {
      "image/png": "[encoded data removed]",
      "text/plain": [
       "<Figure size 432x288 with 1 Axes>"
      ]
     },
     "metadata": {
      "needs_background": "light"
     },
     "output_type": "display_data"
    }
   ],
   "source": [
    "sns.countplot(x='state', hue='owns_car', data=df)\n",
    "plt.title(\"For old customer data\")\n",
    "plt.legend([\"No\",\"Yes\"])\n",
    "plt.show()"
   ]
  },
  {
   "cell_type": "code",
   "execution_count": 153,
   "id": "b70fe0c6",
   "metadata": {},
   "outputs": [
    {
     "data": {
      "image/png": "[encoded data removed]",
      "text/plain": [
       "<Figure size 432x288 with 1 Axes>"
      ]
     },
     "metadata": {
      "needs_background": "light"
     },
     "output_type": "display_data"
    }
   ],
   "source": [
    "sns.countplot(x='state', hue='customer_title', data=df)\n",
    "plt.title(\"For old customer data\")\n",
    "plt.show()"
   ]
  },
  {
   "cell_type": "code",
   "execution_count": 73,
   "id": "df611d6c",
   "metadata": {
    "scrolled": true
   },
   "outputs": [
    {
     "data": {
      "image/png": "[encoded data removed]",
      "text/plain": [
       "<Figure size 432x288 with 1 Axes>"
      ]
     },
     "metadata": {
      "needs_background": "light"
     },
     "output_type": "display_data"
    }
   ],
   "source": [
    "sns.countplot(x = 'job_industry_category',data = df)\n",
    "plt.xticks(rotation=90)\n",
    "plt.show()"
   ]
  },
  {
   "cell_type": "code",
   "execution_count": 74,
   "id": "ce5c321f",
   "metadata": {},
   "outputs": [
    {
     "data": {
      "image/png": "[encoded data removed]",
      "text/plain": [
       "<Figure size 432x288 with 1 Axes>"
      ]
     },
     "metadata": {},
     "output_type": "display_data"
    }
   ],
   "source": [
    "df.groupby('job_industry_category').size().plot(kind='pie', autopct='%.2f')\n",
    "plt.show()"
   ]
  },
  {
   "cell_type": "code",
   "execution_count": 125,
   "id": "5f35b389",
   "metadata": {},
   "outputs": [
    {
     "data": {
      "image/png": "[encoded data removed]",
      "text/plain": [
       "<Figure size 432x288 with 1 Axes>"
      ]
     },
     "metadata": {
      "needs_background": "light"
     },
     "output_type": "display_data"
    }
   ],
   "source": [
    "sns.countplot(x = 'job_industry_category',data = df)\n",
    "plt.xticks(rotation=90)\n",
    "plt.title(\"For old customer data\")\n",
    "plt.show()"
   ]
  },
  {
   "cell_type": "code",
   "execution_count": 144,
   "id": "e2bde0c3",
   "metadata": {},
   "outputs": [
    {
     "data": {
      "image/png": "[encoded data removed]",
      "text/plain": [
       "<Figure size 432x288 with 1 Axes>"
      ]
     },
     "metadata": {
      "needs_background": "light"
     },
     "output_type": "display_data"
    }
   ],
   "source": [
    "df.groupby(\"job_industry_category\")[\"profit\"].sum().plot(kind = 'bar',color = 'red')\n",
    "plt.title(\" Total profit from old customer\")\n",
    "plt.show()"
   ]
  },
  {
   "cell_type": "code",
   "execution_count": 123,
   "id": "51ff6674",
   "metadata": {
    "scrolled": true
   },
   "outputs": [
    {
     "data": {
      "image/png": "[encoded data removed]",
      "text/plain": [
       "<Figure size 432x288 with 1 Axes>"
      ]
     },
     "metadata": {
      "needs_background": "light"
     },
     "output_type": "display_data"
    }
   ],
   "source": [
    "sns.countplot(x = 'age_group',data = df)\n",
    "plt.xticks(rotation=90)\n",
    "plt.title(\"For old customer data\")\n",
    "plt.show()"
   ]
  },
  {
   "cell_type": "code",
   "execution_count": 76,
   "id": "cc9da647",
   "metadata": {},
   "outputs": [
    {
     "data": {
      "image/png": "[encoded data removed]",
      "text/plain": [
       "<Figure size 432x288 with 1 Axes>"
      ]
     },
     "metadata": {
      "needs_background": "light"
     },
     "output_type": "display_data"
    }
   ],
   "source": [
    "sns.countplot(x='job_industry_category', hue='owns_car', data=df)\n",
    "plt.legend(['Does Not Own a Car', 'Owns a Car'])\n",
    "plt.xticks(rotation = 90)\n",
    "plt.show()"
   ]
  },
  {
   "cell_type": "code",
   "execution_count": 77,
   "id": "55aa60a8",
   "metadata": {},
   "outputs": [
    {
     "data": {
      "image/png": "[encoded data removed]",
      "text/plain": [
       "<Figure size 432x288 with 1 Axes>"
      ]
     },
     "metadata": {
      "needs_background": "light"
     },
     "output_type": "display_data"
    }
   ],
   "source": [
    "sns.countplot(x='state', hue='owns_car', data=df)\n",
    "plt.legend(['Does Not Own a Car', 'Owns a Car'])\n",
    "plt.show()"
   ]
  },
  {
   "cell_type": "code",
   "execution_count": 89,
   "id": "7107eae5",
   "metadata": {},
   "outputs": [],
   "source": [
    "new_customer = pd.read_excel(r\"C:\\Users\\USER\\OneDrive\\Documents\\new_customer.xlsx\")"
   ]
  },
  {
   "cell_type": "code",
   "execution_count": 90,
   "id": "6f303d97",
   "metadata": {},
   "outputs": [
    {
     "data": {
      "text/html": [
       "<div>\n",
       "<style scoped>\n",
       "    .dataframe tbody tr th:only-of-type {\n",
       "        vertical-align: middle;\n",
       "    }\n",
       "\n",
       "    .dataframe tbody tr th {\n",
       "        vertical-align: top;\n",
       "    }\n",
       "\n",
       "    .dataframe thead th {\n",
       "        text-align: right;\n",
       "    }\n",
       "</style>\n",
       "<table border=\"1\" class=\"dataframe\">\n",
       "  <thead>\n",
       "    <tr style=\"text-align: right;\">\n",
       "      <th></th>\n",
       "      <th></th>\n",
       "      <th>Unnamed: 1</th>\n",
       "      <th>Unnamed: 2</th>\n",
       "      <th>Unnamed: 3</th>\n",
       "      <th>Unnamed: 4</th>\n",
       "      <th>Unnamed: 5</th>\n",
       "      <th>Unnamed: 6</th>\n",
       "      <th>Unnamed: 7</th>\n",
       "      <th>Unnamed: 8</th>\n",
       "      <th>Unnamed: 9</th>\n",
       "      <th>...</th>\n",
       "      <th>Unnamed: 13</th>\n",
       "      <th>Unnamed: 14</th>\n",
       "      <th>Unnamed: 15</th>\n",
       "      <th>Unnamed: 16</th>\n",
       "      <th>Unnamed: 17</th>\n",
       "      <th>Unnamed: 18</th>\n",
       "      <th>Unnamed: 19</th>\n",
       "      <th>Unnamed: 20</th>\n",
       "      <th>Unnamed: 21</th>\n",
       "      <th>Unnamed: 22</th>\n",
       "    </tr>\n",
       "  </thead>\n",
       "  <tbody>\n",
       "    <tr>\n",
       "      <th>0</th>\n",
       "      <td>first_name</td>\n",
       "      <td>last_name</td>\n",
       "      <td>gender</td>\n",
       "      <td>past_3_years_bike_related_purchases</td>\n",
       "      <td>DOB</td>\n",
       "      <td>job_title</td>\n",
       "      <td>job_industry_category</td>\n",
       "      <td>wealth_segment</td>\n",
       "      <td>deceased_indicator</td>\n",
       "      <td>owns_car</td>\n",
       "      <td>...</td>\n",
       "      <td>state</td>\n",
       "      <td>country</td>\n",
       "      <td>property_valuation</td>\n",
       "      <td>NaN</td>\n",
       "      <td>NaN</td>\n",
       "      <td>NaN</td>\n",
       "      <td>NaN</td>\n",
       "      <td>NaN</td>\n",
       "      <td>Rank</td>\n",
       "      <td>Value</td>\n",
       "    </tr>\n",
       "    <tr>\n",
       "      <th>1</th>\n",
       "      <td>Chickie</td>\n",
       "      <td>Brister</td>\n",
       "      <td>Male</td>\n",
       "      <td>86</td>\n",
       "      <td>1957-07-12</td>\n",
       "      <td>General Manager</td>\n",
       "      <td>Manufacturing</td>\n",
       "      <td>Mass Customer</td>\n",
       "      <td>N</td>\n",
       "      <td>Yes</td>\n",
       "      <td>...</td>\n",
       "      <td>QLD</td>\n",
       "      <td>Australia</td>\n",
       "      <td>6</td>\n",
       "      <td>0.44</td>\n",
       "      <td>0.55</td>\n",
       "      <td>0.6875</td>\n",
       "      <td>0.584375</td>\n",
       "      <td>1.0</td>\n",
       "      <td>1</td>\n",
       "      <td>1.71875</td>\n",
       "    </tr>\n",
       "    <tr>\n",
       "      <th>2</th>\n",
       "      <td>Morly</td>\n",
       "      <td>Genery</td>\n",
       "      <td>Male</td>\n",
       "      <td>69</td>\n",
       "      <td>1970-03-22</td>\n",
       "      <td>Structural Engineer</td>\n",
       "      <td>Property</td>\n",
       "      <td>Mass Customer</td>\n",
       "      <td>N</td>\n",
       "      <td>No</td>\n",
       "      <td>...</td>\n",
       "      <td>NSW</td>\n",
       "      <td>Australia</td>\n",
       "      <td>11</td>\n",
       "      <td>0.88</td>\n",
       "      <td>0.88</td>\n",
       "      <td>1.1000</td>\n",
       "      <td>0.935000</td>\n",
       "      <td>1.0</td>\n",
       "      <td>1</td>\n",
       "      <td>1.71875</td>\n",
       "    </tr>\n",
       "  </tbody>\n",
       "</table>\n",
       "<p>3 rows × 23 columns</p>\n",
       "</div>"
      ],
      "text/plain": [
       "              Unnamed: 1 Unnamed: 2                           Unnamed: 3  \\\n",
       "0  first_name  last_name     gender  past_3_years_bike_related_purchases   \n",
       "1     Chickie    Brister       Male                                   86   \n",
       "2       Morly     Genery       Male                                   69   \n",
       "\n",
       "   Unnamed: 4           Unnamed: 5             Unnamed: 6      Unnamed: 7  \\\n",
       "0         DOB            job_title  job_industry_category  wealth_segment   \n",
       "1  1957-07-12      General Manager          Manufacturing   Mass Customer   \n",
       "2  1970-03-22  Structural Engineer               Property   Mass Customer   \n",
       "\n",
       "           Unnamed: 8 Unnamed: 9  ... Unnamed: 13 Unnamed: 14  \\\n",
       "0  deceased_indicator   owns_car  ...       state     country   \n",
       "1                   N        Yes  ...         QLD   Australia   \n",
       "2                   N         No  ...         NSW   Australia   \n",
       "\n",
       "          Unnamed: 15 Unnamed: 16 Unnamed: 17 Unnamed: 18  Unnamed: 19  \\\n",
       "0  property_valuation         NaN         NaN         NaN          NaN   \n",
       "1                   6        0.44        0.55      0.6875     0.584375   \n",
       "2                  11        0.88        0.88      1.1000     0.935000   \n",
       "\n",
       "   Unnamed: 20  Unnamed: 21  Unnamed: 22  \n",
       "0          NaN         Rank        Value  \n",
       "1          1.0            1      1.71875  \n",
       "2          1.0            1      1.71875  \n",
       "\n",
       "[3 rows x 23 columns]"
      ]
     },
     "execution_count": 90,
     "metadata": {},
     "output_type": "execute_result"
    }
   ],
   "source": [
    "new_customer.head(3)"
   ]
  },
  {
   "cell_type": "code",
   "execution_count": 91,
   "id": "898cd8d4",
   "metadata": {},
   "outputs": [],
   "source": [
    "new_col_name = new_customer.iloc[0]\n",
    "new_customer = new_customer[1:]\n",
    "new_customer.columns = new_col_name"
   ]
  },
  {
   "cell_type": "code",
   "execution_count": 92,
   "id": "4246d715",
   "metadata": {},
   "outputs": [],
   "source": [
    "new_customer.columns=new_customer.columns.fillna('to_drop')\n",
    "new_customer.drop('to_drop',axis=1,inplace=True)   #removing columns without a column name"
   ]
  },
  {
   "cell_type": "code",
   "execution_count": 93,
   "id": "180bc319",
   "metadata": {},
   "outputs": [
    {
     "data": {
      "text/plain": [
       "0\n",
       "first_name                               0\n",
       "last_name                               29\n",
       "gender                                   0\n",
       "past_3_years_bike_related_purchases      0\n",
       "DOB                                     17\n",
       "job_title                              106\n",
       "job_industry_category                  165\n",
       "wealth_segment                           0\n",
       "deceased_indicator                       0\n",
       "owns_car                                 0\n",
       "tenure                                   0\n",
       "address                                  0\n",
       "postcode                                 0\n",
       "state                                    0\n",
       "country                                  0\n",
       "property_valuation                       0\n",
       "Rank                                     0\n",
       "Value                                    0\n",
       "dtype: int64"
      ]
     },
     "execution_count": 93,
     "metadata": {},
     "output_type": "execute_result"
    }
   ],
   "source": [
    "new_customer.isnull().sum()"
   ]
  },
  {
   "cell_type": "code",
   "execution_count": 94,
   "id": "3e9b3a3b",
   "metadata": {},
   "outputs": [
    {
     "data": {
      "text/plain": [
       "(1000, 18)"
      ]
     },
     "execution_count": 94,
     "metadata": {},
     "output_type": "execute_result"
    }
   ],
   "source": [
    "new_customer.shape"
   ]
  },
  {
   "cell_type": "code",
   "execution_count": 95,
   "id": "8a132437",
   "metadata": {},
   "outputs": [],
   "source": [
    "new_customer[\"job_industry_category\"].fillna(\"miscellaneous\",inplace = True)"
   ]
  },
  {
   "cell_type": "code",
   "execution_count": 96,
   "id": "31ca7ab3",
   "metadata": {},
   "outputs": [],
   "source": [
    "new_customer[\"DOB\"] = pd.to_datetime(new_customer[\"DOB\"])"
   ]
  },
  {
   "cell_type": "code",
   "execution_count": 97,
   "id": "df1c12e0",
   "metadata": {},
   "outputs": [],
   "source": [
    "new_customer[\"age\"] = new_customer['DOB'].apply(lambda x: from_dob_to_age(x))"
   ]
  },
  {
   "cell_type": "code",
   "execution_count": 98,
   "id": "11cdb501",
   "metadata": {},
   "outputs": [
    {
     "data": {
      "text/plain": [
       "0\n",
       "first_name                               0\n",
       "last_name                               29\n",
       "gender                                   0\n",
       "past_3_years_bike_related_purchases      0\n",
       "DOB                                     17\n",
       "job_title                              106\n",
       "job_industry_category                    0\n",
       "wealth_segment                           0\n",
       "deceased_indicator                       0\n",
       "owns_car                                 0\n",
       "tenure                                   0\n",
       "address                                  0\n",
       "postcode                                 0\n",
       "state                                    0\n",
       "country                                  0\n",
       "property_valuation                       0\n",
       "Rank                                     0\n",
       "Value                                    0\n",
       "age                                     17\n",
       "dtype: int64"
      ]
     },
     "execution_count": 98,
     "metadata": {},
     "output_type": "execute_result"
    }
   ],
   "source": [
    "new_customer.isnull().sum()"
   ]
  },
  {
   "cell_type": "code",
   "execution_count": 99,
   "id": "b6296ac7",
   "metadata": {},
   "outputs": [
    {
     "data": {
      "text/plain": [
       "array(['QLD', 'NSW', 'VIC'], dtype=object)"
      ]
     },
     "execution_count": 99,
     "metadata": {},
     "output_type": "execute_result"
    }
   ],
   "source": [
    "new_customer[\"state\"].unique()"
   ]
  },
  {
   "cell_type": "code",
   "execution_count": 100,
   "id": "344d4619",
   "metadata": {},
   "outputs": [
    {
     "data": {
      "text/plain": [
       "array(['Male', 'Female', 'U'], dtype=object)"
      ]
     },
     "execution_count": 100,
     "metadata": {},
     "output_type": "execute_result"
    }
   ],
   "source": [
    "new_customer[\"gender\"].unique()"
   ]
  },
  {
   "cell_type": "code",
   "execution_count": 101,
   "id": "95c2eb65",
   "metadata": {},
   "outputs": [],
   "source": [
    "new_df = new_customer[[\"gender\",\"past_3_years_bike_related_purchases\",\"DOB\",\"job_industry_category\",\"wealth_segment\",\"owns_car\",\"state\",\"property_valuation\",\"age\"]]"
   ]
  },
  {
   "cell_type": "code",
   "execution_count": 102,
   "id": "5b560761",
   "metadata": {
    "scrolled": true
   },
   "outputs": [
    {
     "data": {
      "text/html": [
       "<div>\n",
       "<style scoped>\n",
       "    .dataframe tbody tr th:only-of-type {\n",
       "        vertical-align: middle;\n",
       "    }\n",
       "\n",
       "    .dataframe tbody tr th {\n",
       "        vertical-align: top;\n",
       "    }\n",
       "\n",
       "    .dataframe thead th {\n",
       "        text-align: right;\n",
       "    }\n",
       "</style>\n",
       "<table border=\"1\" class=\"dataframe\">\n",
       "  <thead>\n",
       "    <tr style=\"text-align: right;\">\n",
       "      <th></th>\n",
       "      <th>gender</th>\n",
       "      <th>past_3_years_bike_related_purchases</th>\n",
       "      <th>DOB</th>\n",
       "      <th>job_industry_category</th>\n",
       "      <th>wealth_segment</th>\n",
       "      <th>owns_car</th>\n",
       "      <th>state</th>\n",
       "      <th>property_valuation</th>\n",
       "      <th>age</th>\n",
       "    </tr>\n",
       "  </thead>\n",
       "  <tbody>\n",
       "    <tr>\n",
       "      <th>1</th>\n",
       "      <td>Male</td>\n",
       "      <td>86</td>\n",
       "      <td>1957-07-12</td>\n",
       "      <td>Manufacturing</td>\n",
       "      <td>Mass Customer</td>\n",
       "      <td>Yes</td>\n",
       "      <td>QLD</td>\n",
       "      <td>6</td>\n",
       "      <td>65.0</td>\n",
       "    </tr>\n",
       "    <tr>\n",
       "      <th>2</th>\n",
       "      <td>Male</td>\n",
       "      <td>69</td>\n",
       "      <td>1970-03-22</td>\n",
       "      <td>Property</td>\n",
       "      <td>Mass Customer</td>\n",
       "      <td>No</td>\n",
       "      <td>NSW</td>\n",
       "      <td>11</td>\n",
       "      <td>52.0</td>\n",
       "    </tr>\n",
       "  </tbody>\n",
       "</table>\n",
       "</div>"
      ],
      "text/plain": [
       "0 gender past_3_years_bike_related_purchases        DOB job_industry_category  \\\n",
       "1   Male                                  86 1957-07-12         Manufacturing   \n",
       "2   Male                                  69 1970-03-22              Property   \n",
       "\n",
       "0 wealth_segment owns_car state property_valuation   age  \n",
       "1  Mass Customer      Yes   QLD                  6  65.0  \n",
       "2  Mass Customer       No   NSW                 11  52.0  "
      ]
     },
     "execution_count": 102,
     "metadata": {},
     "output_type": "execute_result"
    }
   ],
   "source": [
    "new_df.head(2)"
   ]
  },
  {
   "cell_type": "code",
   "execution_count": 103,
   "id": "24b6bf1f",
   "metadata": {},
   "outputs": [],
   "source": [
    "new_df = new_df.dropna()"
   ]
  },
  {
   "cell_type": "code",
   "execution_count": 104,
   "id": "83d7e0ae",
   "metadata": {},
   "outputs": [
    {
     "data": {
      "text/plain": [
       "(983, 9)"
      ]
     },
     "execution_count": 104,
     "metadata": {},
     "output_type": "execute_result"
    }
   ],
   "source": [
    "new_df.shape"
   ]
  },
  {
   "cell_type": "code",
   "execution_count": 105,
   "id": "4addd260",
   "metadata": {},
   "outputs": [],
   "source": [
    "def age_group(row):\n",
    "    if row['age']<25:\n",
    "        value = 'below 25'\n",
    "    elif (row['age']<35) & (row['age']>=25):\n",
    "        value = '25-35'\n",
    "    elif (row['age']<45) & (row['age']>=35):\n",
    "        value = '35-45'\n",
    "    elif (row['age']<55) & (row['age']>=45):\n",
    "        value = '45-55'\n",
    "    elif (row['age']<65) & (row['age']>=55):\n",
    "        value = '55-65'\n",
    "    else:\n",
    "        value = '65 and above'\n",
    "    return value\n",
    "new_df[\"age_group\"] = new_df.apply(age_group,axis = 1)"
   ]
  },
  {
   "cell_type": "code",
   "execution_count": 106,
   "id": "5826eb0c",
   "metadata": {
    "scrolled": true
   },
   "outputs": [
    {
     "data": {
      "text/html": [
       "<div>\n",
       "<style scoped>\n",
       "    .dataframe tbody tr th:only-of-type {\n",
       "        vertical-align: middle;\n",
       "    }\n",
       "\n",
       "    .dataframe tbody tr th {\n",
       "        vertical-align: top;\n",
       "    }\n",
       "\n",
       "    .dataframe thead th {\n",
       "        text-align: right;\n",
       "    }\n",
       "</style>\n",
       "<table border=\"1\" class=\"dataframe\">\n",
       "  <thead>\n",
       "    <tr style=\"text-align: right;\">\n",
       "      <th></th>\n",
       "      <th>gender</th>\n",
       "      <th>past_3_years_bike_related_purchases</th>\n",
       "      <th>DOB</th>\n",
       "      <th>job_industry_category</th>\n",
       "      <th>wealth_segment</th>\n",
       "      <th>owns_car</th>\n",
       "      <th>state</th>\n",
       "      <th>property_valuation</th>\n",
       "      <th>age</th>\n",
       "      <th>age_group</th>\n",
       "    </tr>\n",
       "  </thead>\n",
       "  <tbody>\n",
       "    <tr>\n",
       "      <th>1</th>\n",
       "      <td>Male</td>\n",
       "      <td>86</td>\n",
       "      <td>1957-07-12</td>\n",
       "      <td>Manufacturing</td>\n",
       "      <td>Mass Customer</td>\n",
       "      <td>Yes</td>\n",
       "      <td>QLD</td>\n",
       "      <td>6</td>\n",
       "      <td>65.0</td>\n",
       "      <td>65 and above</td>\n",
       "    </tr>\n",
       "    <tr>\n",
       "      <th>2</th>\n",
       "      <td>Male</td>\n",
       "      <td>69</td>\n",
       "      <td>1970-03-22</td>\n",
       "      <td>Property</td>\n",
       "      <td>Mass Customer</td>\n",
       "      <td>No</td>\n",
       "      <td>NSW</td>\n",
       "      <td>11</td>\n",
       "      <td>52.0</td>\n",
       "      <td>45-55</td>\n",
       "    </tr>\n",
       "    <tr>\n",
       "      <th>3</th>\n",
       "      <td>Female</td>\n",
       "      <td>10</td>\n",
       "      <td>1974-08-28</td>\n",
       "      <td>Financial Services</td>\n",
       "      <td>Affluent Customer</td>\n",
       "      <td>No</td>\n",
       "      <td>VIC</td>\n",
       "      <td>5</td>\n",
       "      <td>48.0</td>\n",
       "      <td>45-55</td>\n",
       "    </tr>\n",
       "  </tbody>\n",
       "</table>\n",
       "</div>"
      ],
      "text/plain": [
       "0  gender past_3_years_bike_related_purchases        DOB  \\\n",
       "1    Male                                  86 1957-07-12   \n",
       "2    Male                                  69 1970-03-22   \n",
       "3  Female                                  10 1974-08-28   \n",
       "\n",
       "0 job_industry_category     wealth_segment owns_car state property_valuation  \\\n",
       "1         Manufacturing      Mass Customer      Yes   QLD                  6   \n",
       "2              Property      Mass Customer       No   NSW                 11   \n",
       "3    Financial Services  Affluent Customer       No   VIC                  5   \n",
       "\n",
       "0   age     age_group  \n",
       "1  65.0  65 and above  \n",
       "2  52.0         45-55  \n",
       "3  48.0         45-55  "
      ]
     },
     "execution_count": 106,
     "metadata": {},
     "output_type": "execute_result"
    }
   ],
   "source": [
    "new_df.head(3)"
   ]
  },
  {
   "cell_type": "code",
   "execution_count": 148,
   "id": "86854fd5",
   "metadata": {},
   "outputs": [
    {
     "data": {
      "image/png": "[encoded data removed]",
      "text/plain": [
       "<Figure size 432x288 with 1 Axes>"
      ]
     },
     "metadata": {
      "needs_background": "light"
     },
     "output_type": "display_data"
    }
   ],
   "source": [
    "sns.countplot(x = \"state\",data = new_df)\n",
    "plt.title(\"For new customer data\")\n",
    "plt.show()"
   ]
  },
  {
   "cell_type": "code",
   "execution_count": 150,
   "id": "18bad5a2",
   "metadata": {},
   "outputs": [
    {
     "data": {
      "image/png": "[encoded data removed]",
      "text/plain": [
       "<Figure size 432x288 with 1 Axes>"
      ]
     },
     "metadata": {
      "needs_background": "light"
     },
     "output_type": "display_data"
    }
   ],
   "source": [
    "sns.countplot(x = \"state\",hue = \"owns_car\", data = new_df)\n",
    "plt.title(\"For new customer data\")\n",
    "plt.show()"
   ]
  },
  {
   "cell_type": "code",
   "execution_count": 122,
   "id": "63aec20b",
   "metadata": {},
   "outputs": [
    {
     "data": {
      "image/png": "[encoded data removed]",
      "text/plain": [
       "<Figure size 432x288 with 1 Axes>"
      ]
     },
     "metadata": {
      "needs_background": "light"
     },
     "output_type": "display_data"
    }
   ],
   "source": [
    "sns.countplot(x='wealth_segment', hue='gender', data=new_df)\n",
    "plt.title(\"For new customer data\")\n",
    "plt.show()"
   ]
  },
  {
   "cell_type": "code",
   "execution_count": 108,
   "id": "6b3afb03",
   "metadata": {},
   "outputs": [
    {
     "data": {
      "image/png": "[encoded data removed]",
      "text/plain": [
       "<Figure size 432x288 with 1 Axes>"
      ]
     },
     "metadata": {},
     "output_type": "display_data"
    }
   ],
   "source": [
    "new_df.groupby('wealth_segment').size().plot(kind='pie', autopct='%.2f')\n",
    "plt.title(\"For new customer data\")\n",
    "plt.show()"
   ]
  },
  {
   "cell_type": "code",
   "execution_count": 109,
   "id": "394d9026",
   "metadata": {},
   "outputs": [
    {
     "data": {
      "image/png": "[encoded data removed]",
      "text/plain": [
       "<Figure size 432x288 with 1 Axes>"
      ]
     },
     "metadata": {},
     "output_type": "display_data"
    }
   ],
   "source": [
    "new_df.groupby('gender').size().plot(kind='pie', autopct='%.2f')\n",
    "plt.title(\"For new customer data\")\n",
    "plt.show()"
   ]
  },
  {
   "cell_type": "code",
   "execution_count": 110,
   "id": "1697698f",
   "metadata": {},
   "outputs": [
    {
     "data": {
      "image/png": "[encoded data removed]",
      "text/plain": [
       "<Figure size 432x288 with 1 Axes>"
      ]
     },
     "metadata": {
      "needs_background": "light"
     },
     "output_type": "display_data"
    }
   ],
   "source": [
    "sns.countplot(x = 'age_group',data = new_df)\n",
    "plt.xticks(rotation=90)\n",
    "plt.title(\"For new customer data\")\n",
    "plt.show()"
   ]
  },
  {
   "cell_type": "code",
   "execution_count": 111,
   "id": "68629b4e",
   "metadata": {},
   "outputs": [
    {
     "data": {
      "image/png": "[encoded data removed]",
      "text/plain": [
       "<Figure size 432x288 with 1 Axes>"
      ]
     },
     "metadata": {
      "needs_background": "light"
     },
     "output_type": "display_data"
    }
   ],
   "source": [
    "sns.countplot(x='age_group', hue='gender', data=new_df)\n",
    "plt.title(\"For new customer data\")\n",
    "plt.show()"
   ]
  },
  {
   "cell_type": "code",
   "execution_count": 114,
   "id": "ed2a233f",
   "metadata": {},
   "outputs": [
    {
     "data": {
      "image/png": "[encoded data removed]",
      "text/plain": [
       "<Figure size 432x288 with 1 Axes>"
      ]
     },
     "metadata": {
      "needs_background": "light"
     },
     "output_type": "display_data"
    }
   ],
   "source": [
    "sns.countplot(x='state', hue='owns_car', data=new_df)\n",
    "plt.title(\"For new customer data\")\n",
    "plt.show()"
   ]
  },
  {
   "cell_type": "code",
   "execution_count": 140,
   "id": "36e2781f",
   "metadata": {},
   "outputs": [
    {
     "data": {
      "image/png": "[encoded data removed]",
      "text/plain": [
       "<Figure size 432x288 with 1 Axes>"
      ]
     },
     "metadata": {
      "needs_background": "light"
     },
     "output_type": "display_data"
    }
   ],
   "source": [
    "sns.countplot(x = 'job_industry_category',data = new_df)\n",
    "plt.xticks(rotation=90)\n",
    "plt.title(\"For new customer data\")\n",
    "plt.show()"
   ]
  },
  {
   "cell_type": "code",
   "execution_count": 142,
   "id": "f904b837",
   "metadata": {},
   "outputs": [
    {
     "data": {
      "image/png": "[encoded data removed]",
      "text/plain": [
       "<Figure size 432x288 with 1 Axes>"
      ]
     },
     "metadata": {},
     "output_type": "display_data"
    }
   ],
   "source": [
    "new_df.groupby('job_industry_category').size().plot(kind='pie', autopct='%.2f')\n",
    "plt.title(\"For new customer data\")\n",
    "plt.show()"
   ]
  },
  {
   "cell_type": "code",
   "execution_count": 157,
   "id": "192781e1",
   "metadata": {},
   "outputs": [
    {
     "data": {
      "text/html": [
       "<div>\n",
       "<style scoped>\n",
       "    .dataframe tbody tr th:only-of-type {\n",
       "        vertical-align: middle;\n",
       "    }\n",
       "\n",
       "    .dataframe tbody tr th {\n",
       "        vertical-align: top;\n",
       "    }\n",
       "\n",
       "    .dataframe thead th {\n",
       "        text-align: right;\n",
       "    }\n",
       "</style>\n",
       "<table border=\"1\" class=\"dataframe\">\n",
       "  <thead>\n",
       "    <tr style=\"text-align: right;\">\n",
       "      <th></th>\n",
       "      <th>gender</th>\n",
       "      <th>past_3_years_bike_related_purchases</th>\n",
       "      <th>DOB</th>\n",
       "      <th>job_industry_category</th>\n",
       "      <th>wealth_segment</th>\n",
       "      <th>owns_car</th>\n",
       "      <th>state</th>\n",
       "      <th>property_valuation</th>\n",
       "      <th>age</th>\n",
       "      <th>age_group</th>\n",
       "    </tr>\n",
       "  </thead>\n",
       "  <tbody>\n",
       "    <tr>\n",
       "      <th>1</th>\n",
       "      <td>Male</td>\n",
       "      <td>86</td>\n",
       "      <td>1957-07-12</td>\n",
       "      <td>Manufacturing</td>\n",
       "      <td>Mass Customer</td>\n",
       "      <td>Yes</td>\n",
       "      <td>QLD</td>\n",
       "      <td>6</td>\n",
       "      <td>65.0</td>\n",
       "      <td>65 and above</td>\n",
       "    </tr>\n",
       "    <tr>\n",
       "      <th>2</th>\n",
       "      <td>Male</td>\n",
       "      <td>69</td>\n",
       "      <td>1970-03-22</td>\n",
       "      <td>Property</td>\n",
       "      <td>Mass Customer</td>\n",
       "      <td>No</td>\n",
       "      <td>NSW</td>\n",
       "      <td>11</td>\n",
       "      <td>52.0</td>\n",
       "      <td>45-55</td>\n",
       "    </tr>\n",
       "    <tr>\n",
       "      <th>3</th>\n",
       "      <td>Female</td>\n",
       "      <td>10</td>\n",
       "      <td>1974-08-28</td>\n",
       "      <td>Financial Services</td>\n",
       "      <td>Affluent Customer</td>\n",
       "      <td>No</td>\n",
       "      <td>VIC</td>\n",
       "      <td>5</td>\n",
       "      <td>48.0</td>\n",
       "      <td>45-55</td>\n",
       "    </tr>\n",
       "  </tbody>\n",
       "</table>\n",
       "</div>"
      ],
      "text/plain": [
       "0  gender past_3_years_bike_related_purchases        DOB  \\\n",
       "1    Male                                  86 1957-07-12   \n",
       "2    Male                                  69 1970-03-22   \n",
       "3  Female                                  10 1974-08-28   \n",
       "\n",
       "0 job_industry_category     wealth_segment owns_car state property_valuation  \\\n",
       "1         Manufacturing      Mass Customer      Yes   QLD                  6   \n",
       "2              Property      Mass Customer       No   NSW                 11   \n",
       "3    Financial Services  Affluent Customer       No   VIC                  5   \n",
       "\n",
       "0   age     age_group  \n",
       "1  65.0  65 and above  \n",
       "2  52.0         45-55  \n",
       "3  48.0         45-55  "
      ]
     },
     "execution_count": 157,
     "metadata": {},
     "output_type": "execute_result"
    }
   ],
   "source": [
    "new_df.head(3)"
   ]
  },
  {
   "cell_type": "code",
   "execution_count": null,
   "id": "fa3d1747",
   "metadata": {},
   "outputs": [],
   "source": []
  }
 ],
 "metadata": {
  "kernelspec": {
   "display_name": "Python 3 (ipykernel)",
   "language": "python",
   "name": "python3"
  },
  "language_info": {
   "codemirror_mode": {
    "name": "ipython",
    "version": 3
   },
   "file_extension": ".py",
   "mimetype": "text/x-python",
   "name": "python",
   "nbconvert_exporter": "python",
   "pygments_lexer": "ipython3",
   "version": "3.9.7"
  }
 },
 "nbformat": 4,
 "nbformat_minor": 5
}
